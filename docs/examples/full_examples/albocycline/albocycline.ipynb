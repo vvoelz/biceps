{
 "cells": [
  {
   "cell_type": "markdown",
   "metadata": {},
   "source": [
    "Albocycline\n",
    "===========\n",
    "\n",
    "<!--<img title=\"https://pubchem.ncbi.nlm.nih.gov\" src=\"https://pubchem.ncbi.nlm.nih.gov/image/imagefly.cgi?cid=6440973&width=500&height=500\" align=\"center\" height=\"400\" width=\"400\">-->\n",
    "\n",
    "\n",
    "<hr style=\"height:2.5px\">\n",
    "\n",
    "<h2 style=\"align: center;font-size: 12pt;\">Summary:</h2> Albocycline is a macrolactone isolated from Streptomyces maizeus.  This macrolactone has recently been identified as a promising lead antibiotic candidate for the treatment of both vancomycin-resistant S. aureus (VRSA) and MRSA.<br>\n",
    "In our previous example we showed in detail how to calculate the consistency of theoretical modeling with experiment. The user gained insight on how to run `biceps` calculations in full. In this example, we will repeat the process parallelizing lambda values with `multiprocessing`.</h2>\n",
    "\n",
    "\n",
    "\n",
    "**To convert this Jupyter Notebook into a script use the following command:**\n",
    "\n",
    "```\n",
    "$ jupyter nbconvert --to python albocycline.ipynb\n",
    "```\n",
    "\n",
    "<hr style=\"height:2.5px\">"
   ]
  },
  {
   "cell_type": "code",
   "execution_count": 1,
   "metadata": {},
   "outputs": [
    {
     "name": "stdout",
     "output_type": "stream",
     "text": [
      "BICePs - Bayesian Inference of Conformational Populations, Version 2.0\n"
     ]
    }
   ],
   "source": [
    "import numpy as np\n",
    "import pandas as pd\n",
    "import biceps"
   ]
  },
  {
   "cell_type": "code",
   "execution_count": 2,
   "metadata": {},
   "outputs": [
    {
     "name": "stdout",
     "output_type": "stream",
     "text": [
      "Possible input data extensions: ['H', 'Ca', 'N', 'J', 'noe', 'pf']\n",
      "Input data: ['J', 'noe']\n"
     ]
    }
   ],
   "source": [
    "####### Data and Output Directories #######\n",
    "print(f\"Possible input data extensions: {biceps.toolbox.list_possible_extensions()}\")\n",
    "energies = np.loadtxt('albocycline/albocycline_QMenergies.dat')*627.509  # convert from hartrees to kcal/mol\n",
    "energies = energies/0.5959   # convert to reduced free energies F = f/kT\n",
    "energies -= energies.min()  # set ground state to zero, just in case\n",
    "dataFiles = 'albocycline/new_J_NOE'\n",
    "input_data = biceps.toolbox.sort_data(dataFiles)\n",
    "print(f\"Input data: {biceps.toolbox.list_extensions(input_data)}\")\n",
    "outdir = 'results'\n",
    "biceps.toolbox.mkdir(outdir)"
   ]
  },
  {
   "cell_type": "code",
   "execution_count": 3,
   "metadata": {},
   "outputs": [
    {
     "name": "stdout",
     "output_type": "stream",
     "text": [
      "nSteps of sampling: 10000000\n"
     ]
    },
    {
     "data": {
      "text/html": [
       "<div>\n",
       "<style scoped>\n",
       "    .dataframe tbody tr th:only-of-type {\n",
       "        vertical-align: middle;\n",
       "    }\n",
       "\n",
       "    .dataframe tbody tr th {\n",
       "        vertical-align: top;\n",
       "    }\n",
       "\n",
       "    .dataframe thead th {\n",
       "        text-align: right;\n",
       "    }\n",
       "</style>\n",
       "<table border=\"1\" class=\"dataframe\">\n",
       "  <thead>\n",
       "    <tr style=\"text-align: right;\">\n",
       "      <th></th>\n",
       "      <th>ref</th>\n",
       "      <th>sigma</th>\n",
       "      <th>gamma</th>\n",
       "    </tr>\n",
       "  </thead>\n",
       "  <tbody>\n",
       "    <tr>\n",
       "      <th>0</th>\n",
       "      <td>uniform</td>\n",
       "      <td>(0.05, 20.0, 1.02)</td>\n",
       "      <td>NaN</td>\n",
       "    </tr>\n",
       "    <tr>\n",
       "      <th>1</th>\n",
       "      <td>exp</td>\n",
       "      <td>(0.05, 5.0, 1.02)</td>\n",
       "      <td>(0.2, 5.0, 1.01)</td>\n",
       "    </tr>\n",
       "  </tbody>\n",
       "</table>\n",
       "</div>"
      ],
      "text/plain": [
       "       ref               sigma             gamma\n",
       "0  uniform  (0.05, 20.0, 1.02)               NaN\n",
       "1      exp   (0.05, 5.0, 1.02)  (0.2, 5.0, 1.01)"
      ]
     },
     "execution_count": 3,
     "metadata": {},
     "output_type": "execute_result"
    }
   ],
   "source": [
    "####### Parameters #######\n",
    "nsteps=10000000\n",
    "print(f\"nSteps of sampling: {nsteps}\")\n",
    "n_lambdas = 3\n",
    "lambda_values = np.linspace(0.0, 1.0, n_lambdas)\n",
    "parameters = [\n",
    "        {\"ref\": 'uniform', \"sigma\": (0.05, 20.0, 1.02)},\n",
    "        {\"ref\": 'exp', \"sigma\": (0.05, 5.0, 1.02), \"gamma\": (0.2, 5.0, 1.01)}\n",
    "        ]\n",
    "pd.DataFrame(parameters)"
   ]
  },
  {
   "cell_type": "code",
   "execution_count": 4,
   "metadata": {},
   "outputs": [
    {
     "name": "stdout",
     "output_type": "stream",
     "text": [
      "Number of CPUs: 6\n",
      "Number of processes: 3\n",
      "\n",
      "Accepted 71.20017 % \n",
      "\n",
      "\n",
      "Accepted [ ...Nuisance paramters..., state] %\n",
      "Accepted [32.66669 31.51476 31.51476  7.01872] % \n",
      "\n",
      "\n",
      "Accepted 72.05754 % \n",
      "\n",
      "\n",
      "Accepted [ ...Nuisance paramters..., state] %\n",
      "Accepted [32.66657 31.70527 31.70527  7.6857 ] % \n",
      "\n",
      "\n",
      "Accepted 66.90749 % \n",
      "\n",
      "\n",
      "Accepted [ ...Nuisance paramters..., state] %\n",
      "Accepted [32.67527 31.70407 31.70407  2.52815] % \n",
      "\n"
     ]
    }
   ],
   "source": [
    "####### Multiprocessing Lambda values #######\n",
    "@biceps.multiprocess(iterable=lambda_values)\n",
    "def mp_lambdas(lam):\n",
    "    ensemble = biceps.Ensemble(lam, energies)\n",
    "    ensemble.initialize_restraints(input_data, parameters)\n",
    "    sampler = biceps.PosteriorSampler(ensemble.to_list())\n",
    "    sampler.sample(nsteps=nsteps, verbose=False)\n",
    "    sampler.traj.process_results(outdir+'/traj_lambda%2.2f.npz'%(lam))\n",
    "    filename = outdir+'/sampler_lambda%2.2f.pkl'%(lam)\n",
    "    biceps.toolbox.save_object(sampler, filename)"
   ]
  },
  {
   "cell_type": "code",
   "execution_count": 5,
   "metadata": {
    "scrolled": false
   },
   "outputs": [
    {
     "name": "stdout",
     "output_type": "stream",
     "text": [
      "Loading results/traj_lambda0.00.npz ...\n",
      "Loading results/traj_lambda0.50.npz ...\n",
      "Loading results/traj_lambda1.00.npz ...\n",
      "not all state sampled, these states [ 5  7  9 11 15 16 25 27 40 42 48 77 81 87 95 98] are not sampled\n",
      "Loading results/sampler_lambda0.00.pkl ...\n",
      "Loading results/sampler_lambda0.50.pkl ...\n",
      "Loading results/sampler_lambda1.00.pkl ...\n",
      "lam = [0.0, 0.5, 1.0]\n",
      "nstates 100\n",
      "Writing results/BS.dat...\n",
      "...Done.\n",
      "Writing results/populations.dat...\n",
      "...Done.\n",
      "Top 10 states: [59, 65, 91, 80, 37, 39, 38, 92, 46, 85]\n",
      "Top 10 populations: [0.01979935 0.02072878 0.03187067 0.04095707 0.05693156 0.07443944\n",
      " 0.08917493 0.1361757  0.20587539 0.2118544 ]\n"
     ]
    },
    {
     "data": {
      "image/png": "[encoded data removed]",
      "text/plain": [
       "<Figure size 432x288 with 1 Axes>"
      ]
     },
     "metadata": {
      "needs_background": "light"
     },
     "output_type": "display_data"
    },
    {
     "data": {
      "image/png": "[encoded data removed]",
      "text/plain": [
       "<Figure size 576x720 with 4 Axes>"
      ]
     },
     "metadata": {
      "needs_background": "light"
     },
     "output_type": "display_data"
    }
   ],
   "source": [
    "####### Posterior Analysis #######\n",
    "%matplotlib inline\n",
    "A = biceps.Analysis(outdir, nstates=len(energies))\n",
    "A.plot()"
   ]
  },
  {
   "cell_type": "markdown",
   "metadata": {},
   "source": [
    "<h6 style=\"align: justify;font-size: 12pt\"># <span style=\"color:red;\">NOTE</span>: The following cell is for pretty notebook rendering</h6>"
   ]
  },
  {
   "cell_type": "code",
   "execution_count": 1,
   "metadata": {},
   "outputs": [
    {
     "data": {
      "text/html": [
       "\n",
       "<style>\n",
       "    @font-face {\n",
       "        font-family: \"Computer Modern\";\n",
       "        src: url('http://mirrors.ctan.org/fonts/cm-unicode/fonts/otf/cmunss.otf');\n",
       "    }\n",
       "    #notebook { /* centers the page content */\n",
       "    padding-left:8%;\n",
       "    padding-right:9%;\n",
       "    }\n",
       "    #ipython-main-app {\n",
       "        position: relative;\n",
       "    }\n",
       "    #jupyter-main-app {\n",
       "        position: relative;\n",
       "    }\n",
       "    div.cell{\n",
       "        width:98%;\n",
       "        margin-left:4% !important;*/\n",
       "        margin-right:4%;\n",
       "    }\n",
       "    h1 {\n",
       "        font-family: \"Charis SIL\", Palatino, serif;\n",
       "        text-align: center;\n",
       "    }\n",
       "    h4{\n",
       "        margin-top:12px;\n",
       "        margin-bottom: 3px;\n",
       "    }\n",
       "    p {\n",
       "        display: block;\n",
       "        text-align: justify;\n",
       "        word-wrap: break-word;\n",
       "    }\n",
       "    div.text_cell_render{\n",
       "        font-family: Computer Modern, \"Helvetica Neue\", Arial, Helvetica, Geneva, sans-serif;\n",
       "        line-height: 145%;\n",
       "        font-size: 12pt;\n",
       "        width:99%;\n",
       "        margin-left:auto;\n",
       "        margin-right:auto;\n",
       "\ttext-align: justify;\n",
       "        word-wrap: break-word;\n",
       "    }\n",
       "    .output_png {\n",
       "        display: block;/*table-cell;*/\n",
       "        text-align: center;\n",
       "        align: center;\n",
       "        vertical-align: middle;\n",
       "        margin-left: auto;\n",
       "        margin-right: auto;\n",
       "        width: auto; /* width: 100%;*/\n",
       "    }\n",
       "    div.output_area pre {font-weight: normal; text-align: justify; }\n",
       "    .warning{\n",
       "        color: rgb( 240, 20, 20 )\n",
       "        }\n",
       "    .CodeMirror{\n",
       "            font-family: \"Source Code Pro\", source-code-pro,Consolas, monospace;\n",
       "    }\n",
       "    .prompt{\n",
       "        display: None;\n",
       "    }\n",
       "    .text_cell_render p {\n",
       "        display: block;\n",
       "        text-align: justify;\n",
       "        word-wrap: break-word;\n",
       "    }\n",
       "    .text_cell_render h5 {\n",
       "        font-weight: 300;\n",
       "        font-size: 16pt;\n",
       "        color: #4057A1;\n",
       "        font-style: italic;\n",
       "        margin-bottom: .5em;\n",
       "        margin-top: 0.5em;\n",
       "        display: block;\n",
       "    }\n",
       "    /* override table width restrictions as found on https://github.com/getpelican/pelican/issues/1311 */\n",
       "    .wy-table-responsive table td, .wy-table-responsive table th {\n",
       "        /* !important prevents the common CSS stylesheets from\n",
       "           overriding this as on RTD they are loaded after this stylesheet */\n",
       "        white-space: normal !important;\n",
       "    }\n",
       "\n",
       "    .wy-table-responsive {\n",
       "        overflow: visible !important;\n",
       "    }\n",
       "</style>\n",
       "\n",
       "\n",
       "<!-- MathJax configuration -->\n",
       "<script type=\"text/x-mathjax-config\">\n",
       "    src=\"http://cdn.mathjax.org/mathjax/latest/MathJax.js?config=TeX-AMS-MML_HTMLorMML\">\n",
       "    MathJax.Hub.Config({\n",
       "                        TeX: {\n",
       "                           extensions: [\"AMSmath.js\"]\n",
       "                           },\n",
       "                tex2jax: {\n",
       "                    inlineMath: [ ['$','$'], [\"\\\\(\",\"\\\\)\"] ],\n",
       "                    displayMath: [ ['$$','$$'], [\"\\\\[\",\"\\\\]\"] ]\n",
       "                },\n",
       "                displayAlign: 'center', // Change this to 'center' to center equations.\n",
       "                \"HTML-CSS\": {\n",
       "                    styles: {'.MathJax_Display': {\"margin\": 4}},\n",
       "                    linebreaks: { automatic: true }}\n",
       "        });\n",
       "</script>\n",
       "\n",
       "\n"
      ],
      "text/plain": [
       "<IPython.core.display.HTML object>"
      ]
     },
     "execution_count": 1,
     "metadata": {},
     "output_type": "execute_result"
    }
   ],
   "source": [
    "from IPython.core.display import HTML\n",
    "def css_styling():\n",
    "    styles = open(\"../../../theme.css\", \"r\").read()\n",
    "    return HTML(styles)\n",
    "css_styling()"
   ]
  }
 ],
 "metadata": {
  "kernelspec": {
   "display_name": "Python 3",
   "language": "python",
   "name": "python3"
  },
  "language_info": {
   "codemirror_mode": {
    "name": "ipython",
    "version": 3
   },
   "file_extension": ".py",
   "mimetype": "text/x-python",
   "name": "python",
   "nbconvert_exporter": "python",
   "pygments_lexer": "ipython3",
   "version": "3.7.3"
  }
 },
 "nbformat": 4,
 "nbformat_minor": 2
}
