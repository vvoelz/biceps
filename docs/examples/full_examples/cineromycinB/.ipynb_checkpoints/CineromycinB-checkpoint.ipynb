{
 "cells": [
  {
   "cell_type": "markdown",
   "metadata": {},
   "source": [
    "Cineromycin B\n",
    "==============\n",
    "\n",
    "<!--<img title=\"https://pubchem.ncbi.nlm.nih.gov\" src=\"https://pubchem.ncbi.nlm.nih.gov/image/imgsrv.fcgi?cid=6444600&t=l\" align=\"center\" height=\"300\" width=\"300\">-->\n",
    "\n",
    "<hr style=\"height:2.5px\">\n",
    "\n",
    "<h2 style=\"align: center;font-size: 12pt;\"> Summary:</h2> In our previous work (DOI: <a href=\"https://onlinelibrary-wiley-com.libproxy.temple.edu/doi/pdf/10.1002/jcc.23738\">10.1002/jcc.23738</a>), we determine solution-state conformational populations of the 14-membered macrocycle cineromycin B (O-desmethyl albocycline), using a combination of previously published sparse Nuclear Magnetic Resonance (NMR) observables and replica exchange molecular dynamic/Quantum mechanics (QM)-refined conformational ensembles. Cineromycin B is a 14-membered macrolide antibiotic that has become increasingly known for having activity against methicillin-resistant Staphylococcus Aureus (MRSA). In this example, we show how to calculate the consistency of computational modeling with experiment, and the relative importance of reference potentials and other model parameters.  We will walk through the process of setting up a `biceps` script. You are welcome to take this as a template for you and make necessary modification to get it work for you. All input files used in this tutorial are prepared from <a href=\"https://biceps.readthedocs.io/en/latest/examples/Tutorials/Prep_Rest_Post_Ana/preparation.html\">this tutorial</a>.</h2>\n",
    "\n",
    "\n",
    "\n",
    "**To convert this Jupyter Notebook into a script use the following command:**\n",
    "\n",
    "```\n",
    "$ jupyter nbconvert --to python cineromycinB.ipynb\n",
    "```\n",
    "\n",
    "\n",
    "\n",
    "<hr style=\"height:2.5px\">"
   ]
  },
  {
   "cell_type": "markdown",
   "metadata": {},
   "source": [
    "First, we need to import source code for BICePs classes. More information of these classes can be found [here](https://biceps.readthedocs.io/en/latest/workflow.html)."
   ]
  },
  {
   "cell_type": "code",
   "execution_count": 1,
   "metadata": {},
   "outputs": [
    {
     "name": "stdout",
     "output_type": "stream",
     "text": [
      "BICePs - Bayesian Inference of Conformational Populations, Version 2.0\n"
     ]
    }
   ],
   "source": [
    "import numpy as np\n",
    "import pandas as pd\n",
    "import biceps"
   ]
  },
  {
   "cell_type": "code",
   "execution_count": 2,
   "metadata": {},
   "outputs": [
    {
     "name": "stdout",
     "output_type": "stream",
     "text": [
      "Possible data restraints: ['Restraint_cs', 'Restraint_J', 'Restraint_noe', 'Restraint_pf']\n",
      "Possible input data extensions: ['H', 'Ca', 'N', 'J', 'noe', 'pf']\n"
     ]
    }
   ],
   "source": [
    "# What possible experimental data does biceps accept?\n",
    "print(f\"Possible data restraints: {biceps.toolbox.list_possible_restraints()}\")\n",
    "print(f\"Possible input data extensions: {biceps.toolbox.list_possible_extensions()}\")"
   ]
  },
  {
   "cell_type": "markdown",
   "metadata": {},
   "source": [
    "Now we need to specify input files and output files folder."
   ]
  },
  {
   "cell_type": "code",
   "execution_count": 3,
   "metadata": {},
   "outputs": [],
   "source": [
    "####### Data and Output Directories #######\n",
    "energies = np.loadtxt('cineromycin_B/cineromycinB_QMenergies.dat')*627.509  # convert from hartrees to kcal/mol\n",
    "energies = energies/0.5959   # convert to reduced free energies F = f/kT\n",
    "energies -= energies.min()  # set ground state to zero, just in case\n",
    "\n",
    "# REQUIRED: specify directory of input data (BICePs readable format)\n",
    "input_data = biceps.toolbox.sort_data('cineromycin_B/J_NOE')\n",
    "\n",
    "# REQUIRED: specify outcome directory of BICePs sampling\n",
    "outdir = 'results'\n",
    "# Make a new directory if we have to\n",
    "biceps.toolbox.mkdir(outdir)"
   ]
  },
  {
   "cell_type": "markdown",
   "metadata": {},
   "source": [
    "Next, we need to specify number of steps for BICePs sampling. We recommend to run at least 1M steps for converged Monte Carlo samplings. In BICePs, we also prepare functions of [checking convergence](https://biceps.readthedocs.io/en/latest/examples/Tutorials/Convergence/convergence.html) of Monte Carlo. More information can be found [here](https://biceps.readthedocs.io/en/latest/biceps.html#convergence)."
   ]
  },
  {
   "cell_type": "code",
   "execution_count": 4,
   "metadata": {},
   "outputs": [],
   "source": [
    "# REQUIRED: number of MCMC steps for each lambda\n",
    "nsteps = 10000000 # 10 M steps"
   ]
  },
  {
   "cell_type": "markdown",
   "metadata": {},
   "source": [
    "We need to specify what lambda values we want to use in BICePs samplings. Briefly, lambda values are similar to the parameters used in free energy perturbation (FEP) and has effect on the BICePs score. The lambda values represent how much prior information from computational modeling is included in BICePs sampling (1.0 means all, 0.0 means none). As we explained in [this work](https://pubs.acs.org/doi/10.1021/acs.jpcb.7b11871), one can consider BICePs score as the relative free energy change between different models. More lambda values will increase the samplings for [multistate Bennett acceptance ratio (MBAR)](http://www.alchemistry.org/wiki/Multistate_Bennett_Acceptance_Ratio) predictions in free energy change and populations. However more lambda values also will slow down the whole process of BICePs (as more samplings need to run), so balancing the accuracy and efficiency is important. To successfully finish a BICePs sampling, lambda values of 0.0 and 1.0 are necessary. Based on our experience, the lambda values of 0.0,0.5,1.0 are good enough for BICePs sampling."
   ]
  },
  {
   "cell_type": "code",
   "execution_count": 5,
   "metadata": {},
   "outputs": [
    {
     "name": "stdout",
     "output_type": "stream",
     "text": [
      "[0. 1.]\n"
     ]
    }
   ],
   "source": [
    "# REQUIRED: specify how many lambdas to sample (more lambdas will provide higher \n",
    "# accuracy but slower the whole process, lambda=0.0 and 1.0 are necessary)\n",
    "n_lambdas = 2\n",
    "lambda_values = np.linspace(0.0, 1.0, n_lambdas)\n",
    "print(lambda_values)"
   ]
  },
  {
   "cell_type": "markdown",
   "metadata": {},
   "source": [
    "Print what experimental observables are included in BICePs sampling. This is optional and provides a chance for double check before running BICePs sampling.\n",
    "\n",
    "In this tutorial, we used both J couplings and NOE (pairwise distances) in BICePs sampling. "
   ]
  },
  {
   "cell_type": "code",
   "execution_count": 6,
   "metadata": {},
   "outputs": [
    {
     "name": "stdout",
     "output_type": "stream",
     "text": [
      "Input data: ['J', 'noe']\n"
     ]
    }
   ],
   "source": [
    "# OPTIONAL but RECOMMENDED: print experimental restraints included (a chance for double check)\n",
    "print(f\"Input data: {biceps.toolbox.list_extensions(input_data)}\")"
   ]
  },
  {
   "cell_type": "markdown",
   "metadata": {},
   "source": [
    "Another key parameter for BICePs set-up is the type of reference potential for each experimental observables. More information of reference potential can be found [here](https://biceps.readthedocs.io/en/latest/theory.html).\n",
    "\n",
    "Three reference potentials are supported in BICePs: uniform ('uniform'), exponential ('exp'), Gaussian ('gau').  \n",
    "\n",
    "As we found in previous research, exponential reference potential is useful in most cases. Some higher level task may require more in reference potential selection (e.g [force field parametrization](https://pubs.acs.org/doi/10.1021/acs.jpcb.7b11871)).\n",
    "\n",
    "(Note: It will be helpful to print out what is the order of experimental observables included in BICePs sampling as shown above.)"
   ]
  },
  {
   "cell_type": "markdown",
   "metadata": {},
   "source": [
    "Users can specify reference potential to use for each experimental observable will be in the same order as <code>input_data</code>.\n",
    "If you want, you can specify nuisance parameters (uncertainty in experiments) range but it's not required. Our default parameters range is broad enough.\n",
    "\"gamma\" is a scaling factor converting distances to NOE intensity in experiments. It is only used when NOE restraint is used in BICePs sampling."
   ]
  },
  {
   "cell_type": "code",
   "execution_count": 7,
   "metadata": {},
   "outputs": [
    {
     "data": {
      "text/html": [
       "<div>\n",
       "<style scoped>\n",
       "    .dataframe tbody tr th:only-of-type {\n",
       "        vertical-align: middle;\n",
       "    }\n",
       "\n",
       "    .dataframe tbody tr th {\n",
       "        vertical-align: top;\n",
       "    }\n",
       "\n",
       "    .dataframe thead th {\n",
       "        text-align: right;\n",
       "    }\n",
       "</style>\n",
       "<table border=\"1\" class=\"dataframe\">\n",
       "  <thead>\n",
       "    <tr style=\"text-align: right;\">\n",
       "      <th></th>\n",
       "      <th>ref</th>\n",
       "      <th>sigma</th>\n",
       "      <th>gamma</th>\n",
       "    </tr>\n",
       "  </thead>\n",
       "  <tbody>\n",
       "    <tr>\n",
       "      <th>0</th>\n",
       "      <td>uniform</td>\n",
       "      <td>(0.05, 20.0, 1.02)</td>\n",
       "      <td>NaN</td>\n",
       "    </tr>\n",
       "    <tr>\n",
       "      <th>1</th>\n",
       "      <td>exp</td>\n",
       "      <td>(0.05, 5.0, 1.02)</td>\n",
       "      <td>(0.2, 5.0, 1.02)</td>\n",
       "    </tr>\n",
       "  </tbody>\n",
       "</table>\n",
       "</div>"
      ],
      "text/plain": [
       "       ref               sigma             gamma\n",
       "0  uniform  (0.05, 20.0, 1.02)               NaN\n",
       "1      exp   (0.05, 5.0, 1.02)  (0.2, 5.0, 1.02)"
      ]
     },
     "execution_count": 7,
     "metadata": {},
     "output_type": "execute_result"
    }
   ],
   "source": [
    "parameters = [\n",
    "        {\"ref\": 'uniform', \"sigma\": (0.05, 20.0, 1.02)},\n",
    "        {\"ref\": 'exp', \"sigma\": (0.05, 5.0, 1.02), \"gamma\": (0.2, 5.0, 1.02)}\n",
    "        ]\n",
    "pd.DataFrame(parameters)"
   ]
  },
  {
   "cell_type": "markdown",
   "metadata": {},
   "source": [
    "Now we need to set up BICePs samplings and feed arguments using variables we defined above. In most cases, you don't need to modify this part as long as you defined all these parameters shown above. "
   ]
  },
  {
   "cell_type": "code",
   "execution_count": 9,
   "metadata": {},
   "outputs": [
    {
     "name": "stdout",
     "output_type": "stream",
     "text": [
      "lambda: 0.0\n",
      "Step\t\tState\tPara Indices\t\tEnergy\t\tAcceptance (%)\n",
      "0\t\t33\t[[151], [116, 81]]\t119.297\t\t100.00\n",
      "1000000\t\t87\t[[223], [149, 102]]\t6.367\t\t71.49\n",
      "2000000\t\t23\t[[251], [144, 105]]\t10.597\t\t71.61\n",
      "3000000\t\t22\t[[242], [145, 96]]\t8.970\t\t71.56\n",
      "4000000\t\t21\t[[219], [114, 97]]\t7.765\t\t71.65\n",
      "5000000\t\t66\t[[280], [131, 97]]\t11.077\t\t71.48\n",
      "6000000\t\t47\t[[252], [143, 104]]\t11.953\t\t71.31\n",
      "7000000\t\t45\t[[238], [126, 99]]\t7.611\t\t71.23\n",
      "8000000\t\t45\t[[250], [124, 95]]\t7.041\t\t71.21\n",
      "9000000\t\t59\t[[222], [171, 95]]\t14.392\t\t71.15\n",
      "\n",
      "Accepted 71.14281 % \n",
      "\n",
      "\n",
      "Accepted [ ...Nuisance paramters..., state] %%\n",
      "Accepted [32.74304 29.88213 29.88213  8.51764] % \n",
      "\n",
      "...Done.\n",
      "lambda: 1.0\n",
      "Step\t\tState\tPara Indices\t\tEnergy\t\tAcceptance (%)\n",
      "0\t\t0\t[[150], [116, 81]]\t128.034\t\t100.00\n",
      "1000000\t\t59\t[[240], [154, 96]]\t7.682\t\t64.13\n",
      "2000000\t\t39\t[[258], [130, 99]]\t10.780\t\t64.23\n",
      "3000000\t\t59\t[[236], [143, 93]]\t6.438\t\t64.28\n",
      "4000000\t\t90\t[[237], [161, 93]]\t9.077\t\t64.29\n",
      "5000000\t\t85\t[[277], [126, 96]]\t9.104\t\t64.32\n",
      "6000000\t\t59\t[[302], [111, 95]]\t11.312\t\t64.31\n",
      "7000000\t\t38\t[[281], [119, 90]]\t7.911\t\t64.30\n",
      "8000000\t\t90\t[[232], [129, 91]]\t5.833\t\t64.30\n",
      "9000000\t\t90\t[[248], [128, 88]]\t6.561\t\t64.30\n",
      "\n",
      "Accepted 64.28557 % \n",
      "\n",
      "\n",
      "Accepted [ ...Nuisance paramters..., state] %%\n",
      "Accepted [32.72381 29.97256 29.97256  1.5892 ] % \n",
      "\n",
      "...Done.\n"
     ]
    }
   ],
   "source": [
    "####### MCMC Simulations #######\n",
    "for lam in lambda_values:\n",
    "    print(f\"lambda: {lam}\")\n",
    "    ensemble = biceps.Ensemble(lam, energies)\n",
    "    ensemble.initialize_restraints(input_data, parameters)\n",
    "    sampler = biceps.PosteriorSampler(ensemble.to_list())\n",
    "    sampler.sample(nsteps=nsteps, print_freq=1000000, verbose=True)\n",
    "    sampler.traj.process_results(outdir+'/traj_lambda%2.2f.npz'%(lam))\n",
    "    outfilename = 'sampler_lambda%2.2f.pkl'%(lam)\n",
    "    fout = open(os.path.join(outdir, outfilename), 'wb')\n",
    "    pickle.dump(sampler, fout)\n",
    "    fout.close()\n",
    "    print('...Done.')"
   ]
  },
  {
   "cell_type": "markdown",
   "metadata": {},
   "source": [
    "**Note that all output trajectories and images will be placed in the previously defined `outdir` as 'results_ref_normal'...**\n",
    "\n",
    "**Also note that the user can quickly check to see if our MCMC trajectories have converged using our `biceps.convergence` module. See [this tutorial](https://biceps.readthedocs.io/en/latest/examples/Tutorials/Convergence/convergence.html) for an example and more details.**"
   ]
  },
  {
   "cell_type": "markdown",
   "metadata": {},
   "source": [
    "Then, we need to run functions in [Analysis](https://biceps.readthedocs.io/en/latest/biceps.html#analysis) to get predicted populations of each conformational states and BICePs score. A figure of posterior distribution of populations and nuisance parameters will be plotted as well. "
   ]
  },
  {
   "cell_type": "markdown",
   "metadata": {},
   "source": [
    "The output files include: population information (\"populations.dat\"), figure of sampled parameters distribution (\"BICePs.pdf\"), BICePs score information (\"BS.dat\")."
   ]
  },
  {
   "cell_type": "code",
   "execution_count": 4,
   "metadata": {},
   "outputs": [
    {
     "name": "stdout",
     "output_type": "stream",
     "text": [
      "Loading results/traj_lambda0.00.npz ...\n",
      "Loading results/traj_lambda1.00.npz ...\n",
      "not all state sampled, these states [ 4  5  9 11 13 15 16 22 24 25 26 27 34 40 42 48 51 52 54 62 73 76 77 81\n",
      " 87 95 98 99] are not sampled\n",
      "Loading results/sampler_lambda0.00.pkl ...\n",
      "Loading results/sampler_lambda1.00.pkl ...\n",
      "lam = [0.0, 1.0]\n",
      "nstates 100\n",
      "Writing results/BS.dat...\n",
      "...Done.\n",
      "Writing results/populations.dat...\n",
      "...Done.\n"
     ]
    },
    {
     "data": {
      "image/png": "[encoded data removed]",
      "text/plain": [
       "<Figure size 432x288 with 1 Axes>"
      ]
     },
     "metadata": {
      "needs_background": "light"
     },
     "output_type": "display_data"
    },
    {
     "data": {
      "image/png": "[encoded data removed]",
      "text/plain": [
       "<Figure size 576x720 with 4 Axes>"
      ]
     },
     "metadata": {
      "needs_background": "light"
     },
     "output_type": "display_data"
    }
   ],
   "source": [
    "############ MBAR and Figures ###########\n",
    "%matplotlib inline\n",
    "# Let's do analysis using MBAR algorithm and plot figures\n",
    "A = biceps.Analysis(outdir, nstates=len(energies))\n",
    "A.plot(show=True)"
   ]
  },
  {
   "cell_type": "markdown",
   "metadata": {},
   "source": [
    "Now, let's take a look at the output figure above (\"BICePs.pdf\").\n",
    "\n",
    "\n",
    "The top left panel shows the population of each states in the presence (y-axis) and absense (x-axis) of computational modeling prior information. You can find some states (e.g state 38, 59) get awarded after including computational prior information. If you check [this work](https://onlinelibrary.wiley.com/doi/full/10.1002/jcc.23738) you will see how misleading the results will be if we only use experimental restraints without computational prior information. \n",
    "The other three panels show the distribution of nuisance parameters in the presence or absence of computational modeling information. It may not be clear in this example due to the limit of finite sampling, but based on our experience, including prior information from our simulations will lower the nuisance parameters than only using experimental restraints."
   ]
  },
  {
   "cell_type": "markdown",
   "metadata": {},
   "source": [
    "Next, let's take a look at the populations file."
   ]
  },
  {
   "cell_type": "markdown",
   "metadata": {},
   "source": [
    "There are 100 rows corresponding to 100 clustered states. Four columns corresponding to populations of each state (row) for 2 lambda values (first 2 columns) and population change (last 2 columns). "
   ]
  },
  {
   "cell_type": "code",
   "execution_count": 5,
   "metadata": {},
   "outputs": [
    {
     "name": "stdout",
     "output_type": "stream",
     "text": [
      "           0             1         2             3\n",
      "0   0.017158  2.203805e-05  0.000410  5.357668e-07\n",
      "1   0.003782  8.038469e-06  0.000194  4.136070e-07\n",
      "2   0.007418  7.816113e-04  0.000258  2.737407e-05\n",
      "3   0.000565  5.318498e-06  0.000075  7.046287e-07\n",
      "4   0.000310  9.283943e-08  0.000056  1.667566e-08\n",
      "..       ...           ...       ...           ...\n",
      "95  0.005040  9.690027e-12  0.000224           NaN\n",
      "96  0.003080  1.964245e-05  0.000175  1.117146e-06\n",
      "97  0.003802  8.110902e-06  0.000194  4.162408e-07\n",
      "98  0.003290  3.403677e-11  0.000181  1.164153e-10\n",
      "99  0.001730  3.172908e-07  0.000131  2.414103e-08\n",
      "\n",
      "[100 rows x 4 columns]\n"
     ]
    }
   ],
   "source": [
    "import pandas as pd\n",
    "pops = np.loadtxt(outdir+'/populations.dat')\n",
    "df = pd.DataFrame(pops)\n",
    "print(df)"
   ]
  },
  {
   "cell_type": "markdown",
   "metadata": {},
   "source": [
    "<h6 style=\"align: justify;font-size: 12pt\"># <span style=\"color:red;\">NOTE</span>: The following cell is for pretty notebook rendering</h6>"
   ]
  },
  {
   "cell_type": "code",
   "execution_count": 1,
   "metadata": {},
   "outputs": [
    {
     "data": {
      "text/html": [
       "\n",
       "<style>\n",
       "    @font-face {\n",
       "        font-family: \"Computer Modern\";\n",
       "        src: url('http://mirrors.ctan.org/fonts/cm-unicode/fonts/otf/cmunss.otf');\n",
       "    }\n",
       "    #notebook { /* centers the page content */\n",
       "    padding-left:8%;\n",
       "    padding-right:9%;\n",
       "    }\n",
       "    #ipython-main-app {\n",
       "        position: relative;\n",
       "    }\n",
       "    #jupyter-main-app {\n",
       "        position: relative;\n",
       "    }\n",
       "    div.cell{\n",
       "        width:98%;\n",
       "        margin-left:4% !important;*/\n",
       "        margin-right:4%;\n",
       "    }\n",
       "    h1 {\n",
       "        font-family: \"Charis SIL\", Palatino, serif;\n",
       "        text-align: center;\n",
       "    }\n",
       "    h4{\n",
       "        margin-top:12px;\n",
       "        margin-bottom: 3px;\n",
       "    }\n",
       "    p {\n",
       "        display: block;\n",
       "        text-align: justify;\n",
       "        word-wrap: break-word;\n",
       "    }\n",
       "    div.text_cell_render{\n",
       "        font-family: Computer Modern, \"Helvetica Neue\", Arial, Helvetica, Geneva, sans-serif;\n",
       "        line-height: 145%;\n",
       "        font-size: 12pt;\n",
       "        width:99%;\n",
       "        margin-left:auto;\n",
       "        margin-right:auto;\n",
       "\ttext-align: justify;\n",
       "        word-wrap: break-word;\n",
       "    }\n",
       "    .output_png {\n",
       "        display: block;/*table-cell;*/\n",
       "        text-align: center;\n",
       "        align: center;\n",
       "        vertical-align: middle;\n",
       "        margin-left: auto;\n",
       "        margin-right: auto;\n",
       "        width: auto; /* width: 100%;*/\n",
       "    }\n",
       "    div.output_area pre {font-weight: normal; text-align: justify; }\n",
       "    .warning{\n",
       "        color: rgb( 240, 20, 20 )\n",
       "        }\n",
       "    .CodeMirror{\n",
       "            font-family: \"Source Code Pro\", source-code-pro,Consolas, monospace;\n",
       "    }\n",
       "    .prompt{\n",
       "        display: None;\n",
       "    }\n",
       "    .text_cell_render p {\n",
       "        display: block;\n",
       "        text-align: justify;\n",
       "        word-wrap: break-word;\n",
       "    }\n",
       "    .text_cell_render h5 {\n",
       "        font-weight: 300;\n",
       "        font-size: 16pt;\n",
       "        color: #4057A1;\n",
       "        font-style: italic;\n",
       "        margin-bottom: .5em;\n",
       "        margin-top: 0.5em;\n",
       "        display: block;\n",
       "    }\n",
       "    /* override table width restrictions as found on https://github.com/getpelican/pelican/issues/1311 */\n",
       "    .wy-table-responsive table td, .wy-table-responsive table th {\n",
       "        /* !important prevents the common CSS stylesheets from\n",
       "           overriding this as on RTD they are loaded after this stylesheet */\n",
       "        white-space: normal !important;\n",
       "    }\n",
       "\n",
       "    .wy-table-responsive {\n",
       "        overflow: visible !important;\n",
       "    }\n",
       "</style>\n",
       "\n",
       "\n",
       "<!-- MathJax configuration -->\n",
       "<script type=\"text/x-mathjax-config\">\n",
       "    src=\"http://cdn.mathjax.org/mathjax/latest/MathJax.js?config=TeX-AMS-MML_HTMLorMML\">\n",
       "    MathJax.Hub.Config({\n",
       "                        TeX: {\n",
       "                           extensions: [\"AMSmath.js\"]\n",
       "                           },\n",
       "                tex2jax: {\n",
       "                    inlineMath: [ ['$','$'], [\"\\\\(\",\"\\\\)\"] ],\n",
       "                    displayMath: [ ['$$','$$'], [\"\\\\[\",\"\\\\]\"] ]\n",
       "                },\n",
       "                displayAlign: 'center', // Change this to 'center' to center equations.\n",
       "                \"HTML-CSS\": {\n",
       "                    styles: {'.MathJax_Display': {\"margin\": 4}},\n",
       "                    linebreaks: { automatic: true }}\n",
       "        });\n",
       "</script>\n",
       "\n",
       "\n"
      ],
      "text/plain": [
       "<IPython.core.display.HTML object>"
      ]
     },
     "execution_count": 1,
     "metadata": {},
     "output_type": "execute_result"
    }
   ],
   "source": [
    "from IPython.core.display import HTML\n",
    "def css_styling():\n",
    "    styles = open(\"../../../theme.css\", \"r\").read()\n",
    "    return HTML(styles)\n",
    "css_styling()"
   ]
  }
 ],
 "metadata": {
  "kernelspec": {
   "display_name": "Python 3",
   "language": "python",
   "name": "python3"
  },
  "language_info": {
   "codemirror_mode": {
    "name": "ipython",
    "version": 3
   },
   "file_extension": ".py",
   "mimetype": "text/x-python",
   "name": "python",
   "nbconvert_exporter": "python",
   "pygments_lexer": "ipython3",
   "version": "3.7.3"
  }
 },
 "nbformat": 4,
 "nbformat_minor": 1
}
