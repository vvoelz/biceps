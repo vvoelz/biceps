{
 "cells": [
  {
   "cell_type": "markdown",
   "metadata": {},
   "source": [
    "Cineromycin B\n",
    "==============\n",
    "\n",
    "<!--<img title=\"https://pubchem.ncbi.nlm.nih.gov\" src=\"https://pubchem.ncbi.nlm.nih.gov/image/imgsrv.fcgi?cid=6444600&t=l\" align=\"center\" height=\"300\" width=\"300\">-->\n",
    "\n",
    "<hr style=\"height:2.5px\">\n",
    "\n",
    "<h2 style=\"align: center;font-size: 12pt;\"> Summary:</h2> In our previous work (DOI: <a href=\"https://onlinelibrary-wiley-com.libproxy.temple.edu/doi/pdf/10.1002/jcc.23738\">10.1002/jcc.23738</a>), we determine solution-state conformational populations of the 14-membered macrocycle cineromycin B (O-desmethyl albocycline), using a combination of previously published sparse Nuclear Magnetic Resonance (NMR) observables and replica exchange molecular dynamic/Quantum mechanics (QM)-refined conformational ensembles. Cineromycin B is a 14-membered macrolide antibiotic that has become increasingly known for having activity against methicillin-resistant Staphylococcus Aureus (MRSA). In this example, we show how to calculate the consistency of computational modeling with experiment, and the relative importance of reference potentials and other model parameters.  We will walk through the process of setting up a `biceps` script. You are welcome to take this as a template for you and make necessary modification to get it work for you. All input files used in this tutorial are prepared from <a href=\"https://biceps.readthedocs.io/en/latest/examples/Tutorials/Prep_Rest_Post_Ana/preparation.html\">this tutorial</a>.</h2>\n",
    "\n",
    "\n",
    "\n",
    "**To convert this Jupyter Notebook into a script use the following command:**\n",
    "\n",
    "```\n",
    "$ jupyter nbconvert --to python cineromycinB.ipynb\n",
    "```\n",
    "\n",
    "\n",
    "\n",
    "<hr style=\"height:2.5px\">"
   ]
  },
  {
   "cell_type": "markdown",
   "metadata": {},
   "source": [
    "First, we need to import source code for BICePs classes. More information of these classes can be found [here](https://biceps.readthedocs.io/en/latest/workflow.html)."
   ]
  },
  {
   "cell_type": "code",
   "execution_count": 1,
   "metadata": {},
   "outputs": [
    {
     "name": "stdout",
     "output_type": "stream",
     "text": [
      "BICePs - Bayesian Inference of Conformational Populations, Version 2.0\n"
     ]
    }
   ],
   "source": [
    "import numpy as np\n",
    "import pandas as pd\n",
    "import biceps"
   ]
  },
  {
   "cell_type": "code",
   "execution_count": 2,
   "metadata": {},
   "outputs": [
    {
     "name": "stdout",
     "output_type": "stream",
     "text": [
      "Possible data restraints: ['Restraint_cs', 'Restraint_J', 'Restraint_noe', 'Restraint_pf']\n",
      "Possible input data extensions: ['H', 'Ca', 'N', 'J', 'noe', 'pf']\n"
     ]
    }
   ],
   "source": [
    "# What possible experimental data does biceps accept?\n",
    "print(f\"Possible data restraints: {biceps.toolbox.list_possible_restraints()}\")\n",
    "print(f\"Possible input data extensions: {biceps.toolbox.list_possible_extensions()}\")"
   ]
  },
  {
   "cell_type": "markdown",
   "metadata": {},
   "source": [
    "Now we need to specify input files and output files folder."
   ]
  },
  {
   "cell_type": "code",
   "execution_count": 3,
   "metadata": {},
   "outputs": [],
   "source": [
    "####### Data and Output Directories #######\n",
    "energies = np.loadtxt('cineromycin_B/cineromycinB_QMenergies.dat')*627.509  # convert from hartrees to kcal/mol\n",
    "energies = energies/0.5959   # convert to reduced free energies F = f/kT\n",
    "energies -= energies.min()  # set ground state to zero, just in case\n",
    "\n",
    "# REQUIRED: specify directory of input data (BICePs readable format)\n",
    "input_data = biceps.toolbox.sort_data('cineromycin_B/J_NOE')\n",
    "\n",
    "# REQUIRED: specify outcome directory of BICePs sampling\n",
    "outdir = 'results'\n",
    "# Make a new directory if we have to\n",
    "biceps.toolbox.mkdir(outdir)"
   ]
  },
  {
   "cell_type": "markdown",
   "metadata": {},
   "source": [
    "Next, we need to specify number of steps for BICePs sampling. We recommend to run at least 1M steps for converged Monte Carlo samplings. In BICePs, we also prepare functions of [checking convergence](https://biceps.readthedocs.io/en/latest/examples/Tutorials/Convergence/convergence.html) of Monte Carlo. More information can be found [here](https://biceps.readthedocs.io/en/latest/biceps.html#convergence)."
   ]
  },
  {
   "cell_type": "code",
   "execution_count": 4,
   "metadata": {},
   "outputs": [],
   "source": [
    "# REQUIRED: number of MCMC steps for each lambda\n",
    "nsteps = 100000 # 100 k steps for testing\n",
    "#nsteps = 10000000 # 10 M steps for production"
   ]
  },
  {
   "cell_type": "markdown",
   "metadata": {},
   "source": [
    "We need to specify what lambda values we want to use in BICePs samplings. Briefly, lambda values are similar to the parameters used in free energy perturbation (FEP) and has effect on the BICePs score. The lambda values represent how much prior information from computational modeling is included in BICePs sampling (1.0 means all, 0.0 means none). As we explained in [this work](https://pubs.acs.org/doi/10.1021/acs.jpcb.7b11871), one can consider BICePs score as the relative free energy change between different models. More lambda values will increase the samplings for [multistate Bennett acceptance ratio (MBAR)](http://www.alchemistry.org/wiki/Multistate_Bennett_Acceptance_Ratio) predictions in free energy change and populations. However more lambda values also will slow down the whole process of BICePs (as more samplings need to run), so balancing the accuracy and efficiency is important. To successfully finish a BICePs sampling, lambda values of 0.0 and 1.0 are necessary. Based on our experience, the lambda values of 0.0,0.5,1.0 are good enough for BICePs sampling."
   ]
  },
  {
   "cell_type": "code",
   "execution_count": 5,
   "metadata": {},
   "outputs": [
    {
     "name": "stdout",
     "output_type": "stream",
     "text": [
      "[0. 1.]\n"
     ]
    }
   ],
   "source": [
    "# REQUIRED: specify how many lambdas to sample (more lambdas will provide higher \n",
    "# accuracy but slower the whole process, lambda=0.0 and 1.0 are necessary)\n",
    "n_lambdas = 2\n",
    "lambda_values = np.linspace(0.0, 1.0, n_lambdas)\n",
    "print(lambda_values)"
   ]
  },
  {
   "cell_type": "markdown",
   "metadata": {},
   "source": [
    "Print what experimental observables are included in BICePs sampling. This is optional and provides a chance for double check before running BICePs sampling.\n",
    "\n",
    "In this tutorial, we used both J couplings and NOE (pairwise distances) in BICePs sampling. "
   ]
  },
  {
   "cell_type": "code",
   "execution_count": 6,
   "metadata": {},
   "outputs": [
    {
     "name": "stdout",
     "output_type": "stream",
     "text": [
      "Input data: ['J', 'noe']\n"
     ]
    }
   ],
   "source": [
    "# OPTIONAL but RECOMMENDED: print experimental restraints included (a chance for double check)\n",
    "print(f\"Input data: {biceps.toolbox.list_extensions(input_data)}\")"
   ]
  },
  {
   "cell_type": "markdown",
   "metadata": {},
   "source": [
    "Another key parameter for BICePs set-up is the type of reference potential for each experimental observables. More information of reference potential can be found [here](https://biceps.readthedocs.io/en/latest/theory.html).\n",
    "\n",
    "Three reference potentials are supported in BICePs: uniform ('uniform'), exponential ('exp'), Gaussian ('gau').  \n",
    "\n",
    "As we found in previous research, exponential reference potential is useful in most cases. Some higher level task may require more in reference potential selection (e.g [force field parametrization](https://pubs.acs.org/doi/10.1021/acs.jpcb.7b11871)).\n",
    "\n",
    "(Note: It will be helpful to print out what is the order of experimental observables included in BICePs sampling as shown above.)"
   ]
  },
  {
   "cell_type": "markdown",
   "metadata": {},
   "source": [
    "Users can specify reference potential to use for each experimental observable will be in the same order as <code>input_data</code>.\n",
    "If you want, you can specify nuisance parameters (uncertainty in experiments) range but it's not required. Our default parameters range is broad enough.\n",
    "\"gamma\" is a scaling factor converting distances to NOE intensity in experiments. It is only used when NOE restraint is used in BICePs sampling."
   ]
  },
  {
   "cell_type": "code",
   "execution_count": 7,
   "metadata": {},
   "outputs": [
    {
     "data": {
      "text/html": [
       "<div>\n",
       "<style scoped>\n",
       "    .dataframe tbody tr th:only-of-type {\n",
       "        vertical-align: middle;\n",
       "    }\n",
       "\n",
       "    .dataframe tbody tr th {\n",
       "        vertical-align: top;\n",
       "    }\n",
       "\n",
       "    .dataframe thead th {\n",
       "        text-align: right;\n",
       "    }\n",
       "</style>\n",
       "<table border=\"1\" class=\"dataframe\">\n",
       "  <thead>\n",
       "    <tr style=\"text-align: right;\">\n",
       "      <th></th>\n",
       "      <th>ref</th>\n",
       "      <th>sigma</th>\n",
       "      <th>gamma</th>\n",
       "    </tr>\n",
       "  </thead>\n",
       "  <tbody>\n",
       "    <tr>\n",
       "      <th>0</th>\n",
       "      <td>uniform</td>\n",
       "      <td>(0.05, 20.0, 1.02)</td>\n",
       "      <td>NaN</td>\n",
       "    </tr>\n",
       "    <tr>\n",
       "      <th>1</th>\n",
       "      <td>exp</td>\n",
       "      <td>(0.05, 5.0, 1.02)</td>\n",
       "      <td>(0.2, 5.0, 1.02)</td>\n",
       "    </tr>\n",
       "  </tbody>\n",
       "</table>\n",
       "</div>"
      ],
      "text/plain": [
       "       ref               sigma             gamma\n",
       "0  uniform  (0.05, 20.0, 1.02)               NaN\n",
       "1      exp   (0.05, 5.0, 1.02)  (0.2, 5.0, 1.02)"
      ]
     },
     "execution_count": 7,
     "metadata": {},
     "output_type": "execute_result"
    }
   ],
   "source": [
    "parameters = [\n",
    "        {\"ref\": 'uniform', \"sigma\": (0.05, 20.0, 1.02)},\n",
    "        {\"ref\": 'exp', \"sigma\": (0.05, 5.0, 1.02), \"gamma\": (0.2, 5.0, 1.02)}\n",
    "        ]\n",
    "pd.DataFrame(parameters)"
   ]
  },
  {
   "cell_type": "markdown",
   "metadata": {},
   "source": [
    "Now we need to set up BICePs samplings and feed arguments using variables we defined above. In most cases, you don't need to modify this part as long as you defined all these parameters shown above. "
   ]
  },
  {
   "cell_type": "code",
   "execution_count": 8,
   "metadata": {},
   "outputs": [
    {
     "name": "stdout",
     "output_type": "stream",
     "text": [
      "lambda: 0.0\n",
      "Step\t\tState\tPara Indices\t\tAvg Energy\tAcceptance (%)\n",
      "0\t\t[33]\t[152, 116, 81]\t\t115.986\t\t100.00\tTrue\n",
      "10000\t\t[87]\t[216, 132, 100]\t\t5.062\t\t65.87\tTrue\n",
      "20000\t\t[87]\t[207, 142, 101]\t\t5.995\t\t65.39\tFalse\n",
      "30000\t\t[87]\t[217, 151, 96]\t\t6.373\t\t66.44\tFalse\n",
      "40000\t\t[27]\t[250, 155, 101]\t\t8.502\t\t68.63\tTrue\n",
      "50000\t\t[52]\t[248, 152, 97]\t\t9.648\t\t70.16\tFalse\n",
      "60000\t\t[80]\t[244, 146, 100]\t\t10.014\t\t71.43\tTrue\n",
      "70000\t\t[87]\t[206, 126, 96]\t\t6.370\t\t70.97\tTrue\n",
      "80000\t\t[27]\t[250, 129, 101]\t\t6.577\t\t71.13\tTrue\n",
      "90000\t\t[67]\t[270, 139, 96]\t\t8.676\t\t71.48\tFalse\n",
      "\n",
      "Accepted 71.757 % \n",
      "\n",
      "\n",
      "Accepted [ ...Nuisance paramters..., state] %\n",
      "Accepted [32.522 30.326 30.326  8.909] % \n",
      "\n",
      "lambda: 1.0\n",
      "Step\t\tState\tPara Indices\t\tAvg Energy\tAcceptance (%)\n",
      "0\t\t[66]\t[152, 116, 81]\t\t130.699\t\t100.00\tTrue\n",
      "10000\t\t[85]\t[256, 152, 100]\t\t8.310\t\t63.53\tTrue\n",
      "20000\t\t[85]\t[247, 142, 96]\t\t7.232\t\t64.17\tTrue\n",
      "30000\t\t[80]\t[263, 135, 101]\t\t7.358\t\t64.18\tTrue\n",
      "40000\t\t[80]\t[273, 141, 98]\t\t7.216\t\t64.37\tFalse\n",
      "50000\t\t[59]\t[269, 127, 95]\t\t6.117\t\t64.34\tTrue\n",
      "60000\t\t[59]\t[230, 120, 98]\t\t6.436\t\t64.30\tFalse\n",
      "70000\t\t[38]\t[259, 157, 87]\t\t8.732\t\t64.21\tTrue\n",
      "80000\t\t[38]\t[247, 134, 94]\t\t5.074\t\t64.26\tFalse\n",
      "90000\t\t[59]\t[246, 139, 95]\t\t5.567\t\t64.32\tTrue\n",
      "\n",
      "Accepted 64.378 % \n",
      "\n",
      "\n",
      "Accepted [ ...Nuisance paramters..., state] %\n",
      "Accepted [32.574 30.181 30.181  1.623] % \n",
      "\n"
     ]
    }
   ],
   "source": [
    "####### MCMC Simulations #######\n",
    "for lam in lambda_values:\n",
    "    print(f\"lambda: {lam}\")\n",
    "    ensemble = biceps.Ensemble(lam, energies)\n",
    "    ensemble.initialize_restraints(input_data, parameters)\n",
    "    sampler = biceps.PosteriorSampler(ensemble)\n",
    "    sampler.sample(nsteps=nsteps, print_freq=10000, verbose=True)\n",
    "    sampler.traj.process_results(f\"{outdir}/traj_lambda{lam}.npz\")"
   ]
  },
  {
   "cell_type": "markdown",
   "metadata": {},
   "source": [
    "**Note that all output trajectories and images will be placed in the previously defined `outdir` as 'results_ref_normal'...**\n",
    "\n",
    "**Also note that the user can quickly check to see if our MCMC trajectories have converged using our `biceps.convergence` module. See [this tutorial](https://biceps.readthedocs.io/en/latest/examples/Tutorials/Convergence/convergence.html) for an example and more details.**"
   ]
  },
  {
   "cell_type": "markdown",
   "metadata": {},
   "source": [
    "Then, we need to run functions in [Analysis](https://biceps.readthedocs.io/en/latest/biceps.html#analysis) to get predicted populations of each conformational states and BICePs score. A figure of posterior distribution of populations and nuisance parameters will be plotted as well. "
   ]
  },
  {
   "cell_type": "markdown",
   "metadata": {},
   "source": [
    "The output files include: population information (\"populations.dat\"), figure of sampled parameters distribution (\"BICePs.pdf\"), BICePs score information (\"BS.dat\")."
   ]
  },
  {
   "cell_type": "code",
   "execution_count": 9,
   "metadata": {},
   "outputs": [
    {
     "name": "stdout",
     "output_type": "stream",
     "text": [
      "Loading results/traj_lambda0.0.npz ...\n",
      "Loading results/traj_lambda1.0.npz ...\n",
      "not all state sampled, these states [ 0  1  4  5  7  8  9 11 12 13 15 16 18 20 21 22 23 24 25 26 27 28 29 31\n",
      " 33 34 36 40 42 43 44 48 51 52 53 54 55 57 60 61 62 63 64 69 71 73 74 75\n",
      " 76 77 78 81 83 86 87 88 89 95 96 97 98 99] are not sampled\n",
      "Loading results/traj_lambda0.0.pkl ...\n",
      "Loading results/traj_lambda1.0.pkl ...\n",
      "lam = [0.0, 1.0]\n",
      "nstates 100\n",
      "Writing results/BS.dat...\n",
      "Writing results/populations.dat...\n",
      "Top 10 states: [46, 92, 45, 85, 39, 65, 80, 90, 59, 38]\n",
      "Top 10 populations: [0.0162745  0.02517608 0.02937356 0.05370308 0.06233372 0.09602128\n",
      " 0.10226967 0.10690115 0.19453062 0.28411628]\n"
     ]
    },
    {
     "data": {
      "image/png": "[encoded data removed]",
      "text/plain": [
       "<Figure size 432x288 with 1 Axes>"
      ]
     },
     "metadata": {
      "needs_background": "light"
     },
     "output_type": "display_data"
    },
    {
     "data": {
      "image/png": "[encoded data removed]",
      "text/plain": [
       "<Figure size 576x720 with 4 Axes>"
      ]
     },
     "metadata": {
      "needs_background": "light"
     },
     "output_type": "display_data"
    }
   ],
   "source": [
    "############ MBAR and Figures ###########\n",
    "%matplotlib inline\n",
    "# Let's do analysis using MBAR algorithm and plot figures\n",
    "A = biceps.Analysis(trajs=f\"{outdir}/traj*.npz\", nstates=len(energies))\n",
    "A.plot(show=True)"
   ]
  },
  {
   "cell_type": "markdown",
   "metadata": {},
   "source": [
    "Now, let's take a look at the output figure above (\"BICePs.pdf\").\n",
    "\n",
    "\n",
    "The top left panel shows the population of each states in the presence (y-axis) and absense (x-axis) of computational modeling prior information. You can find some states (e.g state 38, 59) get awarded after including computational prior information. If you check [this work](https://onlinelibrary.wiley.com/doi/full/10.1002/jcc.23738) you will see how misleading the results will be if we only use experimental restraints without computational prior information. \n",
    "The other three panels show the distribution of nuisance parameters in the presence or absence of computational modeling information. It may not be clear in this example due to the limit of finite sampling, but based on our experience, including prior information from our simulations will lower the nuisance parameters than only using experimental restraints."
   ]
  },
  {
   "cell_type": "markdown",
   "metadata": {},
   "source": [
    "Next, let's take a look at the populations file."
   ]
  },
  {
   "cell_type": "markdown",
   "metadata": {},
   "source": [
    "There are 100 rows corresponding to 100 clustered states. Four columns corresponding to populations of each state (row) for 2 lambda values (first 2 columns) and population change (last 2 columns). "
   ]
  },
  {
   "cell_type": "code",
   "execution_count": 10,
   "metadata": {},
   "outputs": [
    {
     "name": "stdout",
     "output_type": "stream",
     "text": [
      "           0             1         2             3\n",
      "0   0.011978  2.162798e-05  0.003435  6.277576e-06\n",
      "1   0.003988  1.191602e-05  0.001990  5.968855e-06\n",
      "2   0.008710  1.290053e-03  0.002743  4.092921e-04\n",
      "3   0.000987  1.306724e-05  0.000986  1.307306e-05\n",
      "4   0.000000  0.000000e+00       NaN           NaN\n",
      "..       ...           ...       ...           ...\n",
      "95  0.016000  4.324363e-11  0.003965           NaN\n",
      "96  0.003964  3.553772e-05  0.001978  1.780078e-05\n",
      "97  0.003988  1.196024e-05  0.001990  5.991005e-06\n",
      "98  0.004000  5.817569e-11  0.001996           NaN\n",
      "99  0.001000  2.578042e-07  0.000999  2.579209e-07\n",
      "\n",
      "[100 rows x 4 columns]\n"
     ]
    }
   ],
   "source": [
    "import pandas as pd\n",
    "pops = np.loadtxt(outdir+'/populations.dat')\n",
    "df = pd.DataFrame(pops)\n",
    "print(df)"
   ]
  },
  {
   "cell_type": "markdown",
   "metadata": {},
   "source": [
    "<h6 style=\"align: justify;font-size: 12pt\"># <span style=\"color:red;\">NOTE</span>: The following cell is for pretty notebook rendering</h6>"
   ]
  },
  {
   "cell_type": "code",
   "execution_count": 11,
   "metadata": {},
   "outputs": [
    {
     "data": {
      "text/html": [
       "\n",
       "<style>\n",
       "    @font-face {\n",
       "        font-family: \"Computer Modern\";\n",
       "        src: url('http://mirrors.ctan.org/fonts/cm-unicode/fonts/otf/cmunss.otf');\n",
       "    }\n",
       "    #notebook { /* centers the page content */\n",
       "    padding-left:8%;\n",
       "    padding-right:9%;\n",
       "    }\n",
       "    #ipython-main-app {\n",
       "        position: relative;\n",
       "    }\n",
       "    #jupyter-main-app {\n",
       "        position: relative;\n",
       "    }\n",
       "    div.cell{\n",
       "        width:98%;\n",
       "        margin-left:4% !important;*/\n",
       "        margin-right:4%;\n",
       "    }\n",
       "    h1 {\n",
       "        font-family: \"Charis SIL\", Palatino, serif;\n",
       "        text-align: center;\n",
       "    }\n",
       "    h4{\n",
       "        margin-top:12px;\n",
       "        margin-bottom: 3px;\n",
       "    }\n",
       "    p {\n",
       "        display: block;\n",
       "        text-align: justify;\n",
       "        word-wrap: break-word;\n",
       "    }\n",
       "    div.text_cell_render{\n",
       "        font-family: Computer Modern, \"Helvetica Neue\", Arial, Helvetica, Geneva, sans-serif;\n",
       "        line-height: 145%;\n",
       "        font-size: 12pt;\n",
       "        width:99%;\n",
       "        margin-left:auto;\n",
       "        margin-right:auto;\n",
       "\ttext-align: justify;\n",
       "        word-wrap: break-word;\n",
       "    }\n",
       "    .output_png {\n",
       "        display: block;/*table-cell;*/\n",
       "        text-align: center;\n",
       "        align: center;\n",
       "        vertical-align: middle;\n",
       "        margin-left: auto;\n",
       "        margin-right: auto;\n",
       "        width: auto; /* width: 100%;*/\n",
       "    }\n",
       "    div.output_area pre {font-weight: normal; text-align: justify; }\n",
       "    .warning{\n",
       "        color: rgb( 240, 20, 20 )\n",
       "        }\n",
       "    .CodeMirror{\n",
       "            font-family: \"Source Code Pro\", source-code-pro,Consolas, monospace;\n",
       "    }\n",
       "    .prompt{\n",
       "        display: None;\n",
       "    }\n",
       "    .text_cell_render p {\n",
       "        display: block;\n",
       "        text-align: justify;\n",
       "        word-wrap: break-word;\n",
       "    }\n",
       "    .text_cell_render h5 {\n",
       "        font-weight: 300;\n",
       "        font-size: 16pt;\n",
       "        color: #4057A1;\n",
       "        font-style: italic;\n",
       "        margin-bottom: .5em;\n",
       "        margin-top: 0.5em;\n",
       "        display: block;\n",
       "    }\n",
       "    /* override table width restrictions as found on https://github.com/getpelican/pelican/issues/1311 */\n",
       "    .wy-table-responsive table td, .wy-table-responsive table th {\n",
       "        /* !important prevents the common CSS stylesheets from\n",
       "           overriding this as on RTD they are loaded after this stylesheet */\n",
       "        white-space: normal !important;\n",
       "    }\n",
       "\n",
       "    .wy-table-responsive {\n",
       "        overflow: visible !important;\n",
       "    }\n",
       "</style>\n",
       "\n",
       "\n",
       "<!-- MathJax configuration -->\n",
       "<script type=\"text/x-mathjax-config\">\n",
       "    src=\"http://cdn.mathjax.org/mathjax/latest/MathJax.js?config=TeX-AMS-MML_HTMLorMML\">\n",
       "    MathJax.Hub.Config({\n",
       "                        TeX: {\n",
       "                           extensions: [\"AMSmath.js\"]\n",
       "                           },\n",
       "                tex2jax: {\n",
       "                    inlineMath: [ ['$','$'], [\"\\\\(\",\"\\\\)\"] ],\n",
       "                    displayMath: [ ['$$','$$'], [\"\\\\[\",\"\\\\]\"] ]\n",
       "                },\n",
       "                displayAlign: 'center', // Change this to 'center' to center equations.\n",
       "                \"HTML-CSS\": {\n",
       "                    styles: {'.MathJax_Display': {\"margin\": 4}},\n",
       "                    linebreaks: { automatic: true }}\n",
       "        });\n",
       "</script>\n",
       "\n",
       "\n"
      ],
      "text/plain": [
       "<IPython.core.display.HTML object>"
      ]
     },
     "execution_count": 11,
     "metadata": {},
     "output_type": "execute_result"
    }
   ],
   "source": [
    "from IPython.core.display import HTML\n",
    "def css_styling():\n",
    "    styles = open(\"../../../theme.css\", \"r\").read()\n",
    "    return HTML(styles)\n",
    "css_styling()"
   ]
  }
 ],
 "metadata": {
  "kernelspec": {
   "display_name": "Python 3",
   "language": "python",
   "name": "python3"
  },
  "language_info": {
   "codemirror_mode": {
    "name": "ipython",
    "version": 3
   },
   "file_extension": ".py",
   "mimetype": "text/x-python",
   "name": "python",
   "nbconvert_exporter": "python",
   "pygments_lexer": "ipython3",
   "version": "3.7.3"
  }
 },
 "nbformat": 4,
 "nbformat_minor": 1
}
