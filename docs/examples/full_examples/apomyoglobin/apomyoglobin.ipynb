{
 "cells": [
  {
   "cell_type": "markdown",
   "metadata": {},
   "source": [
    "Apomyoglobin\n",
    "============\n",
    "\n",
    "<!--<img title=\"https://pubchem.ncbi.nlm.nih.gov\" src=\"https://pubchem.ncbi.nlm.nih.gov/image/imgsrv.fcgi?cid=6444600&t=l\" align=\"center\" height=\"300\" width=\"300\">-->\n",
    "\n",
    "<hr style=\"height:2.5px\">\n",
    "\n",
    "<h2 style=\"align: center;font-size: 12pt;\"> Summary:</h2> In our previous work (DOI: <a href=\"https://onlinelibrary-wiley-com.libproxy.temple.edu/doi/pdf/10.1002/jcc.23738\">10.1002/jcc.23738</a>)</h2>\n",
    "\n",
    "\n",
    "\n",
    "<b>Warning:</b> This notebook will require a significant amount of memory.\n",
    "\n",
    "<hr style=\"height:2.5px\">"
   ]
  },
  {
   "cell_type": "code",
   "execution_count": 1,
   "metadata": {},
   "outputs": [
    {
     "name": "stdout",
     "output_type": "stream",
     "text": [
      "BICePs - Bayesian Inference of Conformational Populations, Version 2.0\n"
     ]
    },
    {
     "name": "stderr",
     "output_type": "stream",
     "text": [
      "Warning on use of the timeseries module: If the inherent timescales of the system are long compared to those being analyzed, this statistical inefficiency may be an underestimate.  The estimate presumes the use of many statistically independent samples.  Tests should be performed to assess whether this condition is satisfied.   Be cautious in the interpretation of the data.\n"
     ]
    }
   ],
   "source": [
    "import numpy as np\n",
    "import pandas as pd\n",
    "import biceps\n",
    "import warnings\n",
    "warnings.filterwarnings(\"ignore\", category=UserWarning)\n",
    "warnings.filterwarnings('ignore', category=FutureWarning)"
   ]
  },
  {
   "cell_type": "code",
   "execution_count": 2,
   "metadata": {},
   "outputs": [
    {
     "name": "stdout",
     "output_type": "stream",
     "text": [
      "Possible input data extensions: ['H', 'Ca', 'N', 'J', 'noe', 'pf']\n",
      "Input data: ['H', 'Ca', 'N', 'pf']\n"
     ]
    }
   ],
   "source": [
    "####### Data and Output Directories #######\n",
    "print(f\"Possible input data extensions: {biceps.toolbox.list_possible_extensions()}\")\n",
    "T=[0,1,4,9,10,12,14,16,18,19,20,21,24]\n",
    "states=len(T)\n",
    "datadir=\"apomyoglobin/\"\n",
    "top=datadir+'pdb/T1/state0.pdb'\n",
    "dataFiles = datadir+'new_CS_PF'\n",
    "input_data = biceps.toolbox.sort_data(dataFiles)\n",
    "print(f\"Input data: {biceps.toolbox.list_extensions(input_data)}\")\n",
    "energies_filename = datadir+'energy_model_1.txt'\n",
    "energies = np.loadtxt(energies_filename)\n",
    "energies -= energies.min() # set ground state to zero, just in case\n",
    "states = len(energies)"
   ]
  },
  {
   "cell_type": "code",
   "execution_count": 3,
   "metadata": {},
   "outputs": [
    {
     "data": {
      "text/html": [
       "<div>\n",
       "<style scoped>\n",
       "    .dataframe tbody tr th:only-of-type {\n",
       "        vertical-align: middle;\n",
       "    }\n",
       "\n",
       "    .dataframe tbody tr th {\n",
       "        vertical-align: top;\n",
       "    }\n",
       "\n",
       "    .dataframe thead th {\n",
       "        text-align: right;\n",
       "    }\n",
       "</style>\n",
       "<table border=\"1\" class=\"dataframe\">\n",
       "  <thead>\n",
       "    <tr style=\"text-align: right;\">\n",
       "      <th></th>\n",
       "      <th>ref</th>\n",
       "      <th>sigma</th>\n",
       "      <th>use_global_ref_sigma</th>\n",
       "      <th>extension</th>\n",
       "      <th>weight</th>\n",
       "      <th>file_fmt</th>\n",
       "      <th>precomputed</th>\n",
       "      <th>pf_prior</th>\n",
       "      <th>Ncs_fi</th>\n",
       "      <th>Nhs_fi</th>\n",
       "      <th>beta_c</th>\n",
       "      <th>beta_h</th>\n",
       "      <th>beta_0</th>\n",
       "      <th>xcs</th>\n",
       "      <th>xhs</th>\n",
       "      <th>bs</th>\n",
       "      <th>states</th>\n",
       "    </tr>\n",
       "  </thead>\n",
       "  <tbody>\n",
       "    <tr>\n",
       "      <th>0</th>\n",
       "      <td>uniform</td>\n",
       "      <td>[0.05, 20.0, 1.02]</td>\n",
       "      <td>True</td>\n",
       "      <td>H</td>\n",
       "      <td>1</td>\n",
       "      <td>pickle</td>\n",
       "      <td>NaN</td>\n",
       "      <td>NaN</td>\n",
       "      <td>NaN</td>\n",
       "      <td>NaN</td>\n",
       "      <td>NaN</td>\n",
       "      <td>NaN</td>\n",
       "      <td>NaN</td>\n",
       "      <td>NaN</td>\n",
       "      <td>NaN</td>\n",
       "      <td>NaN</td>\n",
       "      <td>NaN</td>\n",
       "    </tr>\n",
       "    <tr>\n",
       "      <th>1</th>\n",
       "      <td>uniform</td>\n",
       "      <td>[0.05, 20.0, 1.02]</td>\n",
       "      <td>True</td>\n",
       "      <td>Ca</td>\n",
       "      <td>1</td>\n",
       "      <td>pickle</td>\n",
       "      <td>NaN</td>\n",
       "      <td>NaN</td>\n",
       "      <td>NaN</td>\n",
       "      <td>NaN</td>\n",
       "      <td>NaN</td>\n",
       "      <td>NaN</td>\n",
       "      <td>NaN</td>\n",
       "      <td>NaN</td>\n",
       "      <td>NaN</td>\n",
       "      <td>NaN</td>\n",
       "      <td>NaN</td>\n",
       "    </tr>\n",
       "    <tr>\n",
       "      <th>2</th>\n",
       "      <td>uniform</td>\n",
       "      <td>[0.05, 20.0, 1.02]</td>\n",
       "      <td>True</td>\n",
       "      <td>N</td>\n",
       "      <td>1</td>\n",
       "      <td>pickle</td>\n",
       "      <td>NaN</td>\n",
       "      <td>NaN</td>\n",
       "      <td>NaN</td>\n",
       "      <td>NaN</td>\n",
       "      <td>NaN</td>\n",
       "      <td>NaN</td>\n",
       "      <td>NaN</td>\n",
       "      <td>NaN</td>\n",
       "      <td>NaN</td>\n",
       "      <td>NaN</td>\n",
       "      <td>NaN</td>\n",
       "    </tr>\n",
       "    <tr>\n",
       "      <th>3</th>\n",
       "      <td>uniform</td>\n",
       "      <td>[0.05, 20.0, 1.02]</td>\n",
       "      <td>True</td>\n",
       "      <td>pf</td>\n",
       "      <td>1</td>\n",
       "      <td>pickle</td>\n",
       "      <td>False</td>\n",
       "      <td>NaN</td>\n",
       "      <td>NaN</td>\n",
       "      <td>NaN</td>\n",
       "      <td>(0.05, 0.25, 0.01)</td>\n",
       "      <td>(0.0, 5.2, 0.2)</td>\n",
       "      <td>(-10.0, 0.0, 0.2)</td>\n",
       "      <td>(5.0, 8.5, 0.5)</td>\n",
       "      <td>(2.0, 2.7, 0.1)</td>\n",
       "      <td>(15.0, 16.0, 1.0)</td>\n",
       "      <td>NaN</td>\n",
       "    </tr>\n",
       "  </tbody>\n",
       "</table>\n",
       "</div>"
      ],
      "text/plain": [
       "       ref               sigma  use_global_ref_sigma extension  weight  \\\n",
       "0  uniform  [0.05, 20.0, 1.02]                  True         H       1   \n",
       "1  uniform  [0.05, 20.0, 1.02]                  True        Ca       1   \n",
       "2  uniform  [0.05, 20.0, 1.02]                  True         N       1   \n",
       "3  uniform  [0.05, 20.0, 1.02]                  True        pf       1   \n",
       "\n",
       "  file_fmt precomputed  pf_prior  Ncs_fi  Nhs_fi              beta_c  \\\n",
       "0   pickle         NaN       NaN     NaN     NaN                 NaN   \n",
       "1   pickle         NaN       NaN     NaN     NaN                 NaN   \n",
       "2   pickle         NaN       NaN     NaN     NaN                 NaN   \n",
       "3   pickle       False       NaN     NaN     NaN  (0.05, 0.25, 0.01)   \n",
       "\n",
       "            beta_h             beta_0              xcs              xhs  \\\n",
       "0              NaN                NaN              NaN              NaN   \n",
       "1              NaN                NaN              NaN              NaN   \n",
       "2              NaN                NaN              NaN              NaN   \n",
       "3  (0.0, 5.2, 0.2)  (-10.0, 0.0, 0.2)  (5.0, 8.5, 0.5)  (2.0, 2.7, 0.1)   \n",
       "\n",
       "                  bs  states  \n",
       "0                NaN     NaN  \n",
       "1                NaN     NaN  \n",
       "2                NaN     NaN  \n",
       "3  (15.0, 16.0, 1.0)     NaN  "
      ]
     },
     "execution_count": 3,
     "metadata": {},
     "output_type": "execute_result"
    }
   ],
   "source": [
    "options = biceps.get_restraint_options(input_data)\n",
    "pd.DataFrame(options)"
   ]
  },
  {
   "cell_type": "code",
   "execution_count": 4,
   "metadata": {},
   "outputs": [
    {
     "data": {
      "text/html": [
       "<div>\n",
       "<style scoped>\n",
       "    .dataframe tbody tr th:only-of-type {\n",
       "        vertical-align: middle;\n",
       "    }\n",
       "\n",
       "    .dataframe tbody tr th {\n",
       "        vertical-align: top;\n",
       "    }\n",
       "\n",
       "    .dataframe thead th {\n",
       "        text-align: right;\n",
       "    }\n",
       "</style>\n",
       "<table border=\"1\" class=\"dataframe\">\n",
       "  <thead>\n",
       "    <tr style=\"text-align: right;\">\n",
       "      <th></th>\n",
       "      <th>ref</th>\n",
       "      <th>weight</th>\n",
       "      <th>pf_prior</th>\n",
       "      <th>Ncs_fi</th>\n",
       "      <th>Nhs_fi</th>\n",
       "      <th>states</th>\n",
       "    </tr>\n",
       "  </thead>\n",
       "  <tbody>\n",
       "    <tr>\n",
       "      <th>0</th>\n",
       "      <td>exponential</td>\n",
       "      <td>0.333333</td>\n",
       "      <td>NaN</td>\n",
       "      <td>NaN</td>\n",
       "      <td>NaN</td>\n",
       "      <td>NaN</td>\n",
       "    </tr>\n",
       "    <tr>\n",
       "      <th>1</th>\n",
       "      <td>exponential</td>\n",
       "      <td>0.333333</td>\n",
       "      <td>NaN</td>\n",
       "      <td>NaN</td>\n",
       "      <td>NaN</td>\n",
       "      <td>NaN</td>\n",
       "    </tr>\n",
       "    <tr>\n",
       "      <th>2</th>\n",
       "      <td>exponential</td>\n",
       "      <td>0.333333</td>\n",
       "      <td>NaN</td>\n",
       "      <td>NaN</td>\n",
       "      <td>NaN</td>\n",
       "      <td>NaN</td>\n",
       "    </tr>\n",
       "    <tr>\n",
       "      <th>3</th>\n",
       "      <td>exponential</td>\n",
       "      <td>1.000000</td>\n",
       "      <td>apomyoglobin/b15.npy</td>\n",
       "      <td>apomyoglobin/input/Nc</td>\n",
       "      <td>apomyoglobin/input/Nh</td>\n",
       "      <td>[0, 1, 4, 9, 10, 12, 14, 16, 18, 19, 20, 21, 24]</td>\n",
       "    </tr>\n",
       "  </tbody>\n",
       "</table>\n",
       "</div>"
      ],
      "text/plain": [
       "           ref    weight              pf_prior                 Ncs_fi  \\\n",
       "0  exponential  0.333333                   NaN                    NaN   \n",
       "1  exponential  0.333333                   NaN                    NaN   \n",
       "2  exponential  0.333333                   NaN                    NaN   \n",
       "3  exponential  1.000000  apomyoglobin/b15.npy  apomyoglobin/input/Nc   \n",
       "\n",
       "                  Nhs_fi                                            states  \n",
       "0                    NaN                                               NaN  \n",
       "1                    NaN                                               NaN  \n",
       "2                    NaN                                               NaN  \n",
       "3  apomyoglobin/input/Nh  [0, 1, 4, 9, 10, 12, 14, 16, 18, 19, 20, 21, 24]  "
      ]
     },
     "execution_count": 4,
     "metadata": {},
     "output_type": "execute_result"
    }
   ],
   "source": [
    "####### Parameters #######\n",
    "nsteps = 1000000\n",
    "n_lambdas = 2\n",
    "outdir = '%s_steps_%s_lam'%(nsteps, n_lambdas)\n",
    "biceps.toolbox.mkdir(outdir)\n",
    "lambda_values = np.linspace(0.0, 1.0, n_lambdas)\n",
    "options = [\n",
    "        {\"ref\": 'exponential', \"weight\": 1/3},\n",
    "        {\"ref\": 'exponential', \"weight\": 1/3},\n",
    "        {\"ref\": 'exponential', \"weight\": 1/3},\n",
    "        {\"ref\": 'exponential', \"weight\": 1, \"pf_prior\": datadir+'b15.npy',\n",
    "            \"Ncs_fi\": datadir+'input/Nc', \"Nhs_fi\": datadir+'input/Nh', \"states\": T}\n",
    "        ]\n",
    "pd.DataFrame(options)"
   ]
  },
  {
   "cell_type": "raw",
   "metadata": {},
   "source": [
    "####### MCMC Simulations #######\n",
    "@biceps.multiprocess(iterable=lambda_values)\n",
    "def mp_lambdas(lam):\n",
    "    ensemble = biceps.Ensemble(lam, energies)\n",
    "    ensemble.initialize_restraints(input_data, options)\n",
    "    sampler = biceps.PosteriorSampler(ensemble)\n",
    "    sampler.sample(nsteps, verbose=False)\n",
    "    sampler.traj.process_results(f\"{outdir}/traj_lambda{lam}.npz\")"
   ]
  },
  {
   "cell_type": "code",
   "execution_count": 5,
   "metadata": {},
   "outputs": [
    {
     "name": "stderr",
     "output_type": "stream",
     "text": [
      "100%|█████████████████████████████████████████████████████████| 1000000/1000000 [00:27<00:00, 36768.86it/s]\n"
     ]
    },
    {
     "name": "stdout",
     "output_type": "stream",
     "text": [
      "\n",
      "Accepted 59.564499999999995 % \n",
      "\n",
      "\n",
      "Accepted [ ...Nuisance paramters..., state] %\n",
      "Accepted [19.0833 19.0586 19.0551  0.2746  0.2746  0.2746  0.2746  0.2746  0.2746\n",
      "  0.2746  2.0929] % \n",
      "\n"
     ]
    },
    {
     "name": "stderr",
     "output_type": "stream",
     "text": [
      "100%|█████████████████████████████████████████████████████████| 1000000/1000000 [00:27<00:00, 35870.99it/s]\n"
     ]
    },
    {
     "name": "stdout",
     "output_type": "stream",
     "text": [
      "\n",
      "Accepted 61.9413 % \n",
      "\n",
      "\n",
      "Accepted [ ...Nuisance paramters..., state] %\n",
      "Accepted [19.1311 19.0861 19.0675  0.2291  0.2291  0.2291  0.2291  0.2291  0.2291\n",
      "  0.2291  4.4275] % \n",
      "\n"
     ]
    }
   ],
   "source": [
    "####### MCMC Simulations #######\n",
    "for lam in lambda_values:\n",
    "    ensemble = biceps.Ensemble(lam, energies)\n",
    "    ensemble.initialize_restraints(input_data, options)\n",
    "    sampler = biceps.PosteriorSampler(ensemble)\n",
    "    sampler.sample(nsteps, verbose=False)\n",
    "    sampler.traj.process_results(f\"{outdir}/traj_lambda{lam}.npz\")"
   ]
  },
  {
   "cell_type": "code",
   "execution_count": null,
   "metadata": {},
   "outputs": [
    {
     "name": "stdout",
     "output_type": "stream",
     "text": [
      "not all state sampled, these states [1 3 4 9] are not sampled\n",
      "not all state sampled, these states [ 1  2  3  4  9 12] are not sampled\n"
     ]
    }
   ],
   "source": [
    "####### Posterior Analysis #######\n",
    "A = biceps.Analysis(outdir, nstates=states)\n",
    "A.plot(plottype=\"step\")"
   ]
  },
  {
   "cell_type": "markdown",
   "metadata": {},
   "source": [
    "<h6 style=\"align: justify;font-size: 12pt\"># <span style=\"color:red;\">NOTE</span>: The following cell is for pretty notebook rendering</h6>"
   ]
  },
  {
   "cell_type": "code",
   "execution_count": null,
   "metadata": {},
   "outputs": [],
   "source": [
    "from IPython.core.display import HTML\n",
    "def css_styling():\n",
    "    styles = open(\"../../../theme.css\", \"r\").read()\n",
    "    return HTML(styles)\n",
    "css_styling()"
   ]
  }
 ],
 "metadata": {
  "kernelspec": {
   "display_name": "Python 3 (ipykernel)",
   "language": "python",
   "name": "python3"
  },
  "language_info": {
   "codemirror_mode": {
    "name": "ipython",
    "version": 3
   },
   "file_extension": ".py",
   "mimetype": "text/x-python",
   "name": "python",
   "nbconvert_exporter": "python",
   "pygments_lexer": "ipython3",
   "version": "3.8.13"
  }
 },
 "nbformat": 4,
 "nbformat_minor": 2
}
