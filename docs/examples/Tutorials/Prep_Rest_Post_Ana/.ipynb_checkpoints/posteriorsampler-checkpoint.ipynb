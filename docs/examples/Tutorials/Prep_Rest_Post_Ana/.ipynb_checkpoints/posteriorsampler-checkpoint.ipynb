{
 "cells": [
  {
   "cell_type": "markdown",
   "metadata": {},
   "source": [
    "PosteriorSampler\n",
    "==============\n",
    "\n",
    "<hr style=\"height:2.5px\">\n",
    "\n",
    "In this tutorial, we will perform sampling when given an ensemble. Previously, in the [Ensemble](https://biceps.readthedocs.io/en/latest/examples/Tutorials/Prep_Rest_Post_Ana/ensemble.html) tutorial we constructed ensembles for two lambda values and saved them to pickle files.  Please read the section [lambda values](https://biceps.readthedocs.io/en/latest/examples/Tutorials/Prep_Rest_Post_Ana/restraint.ipynb#Quick-note-on-lambda-values:) in the previous tutorial for more information.\n",
    "\n",
    "<hr style=\"height:2.5px\">"
   ]
  },
  {
   "cell_type": "code",
   "execution_count": 1,
   "metadata": {},
   "outputs": [
    {
     "name": "stdout",
     "output_type": "stream",
     "text": [
      "BICePs - Bayesian Inference of Conformational Populations, Version 2.0\n"
     ]
    }
   ],
   "source": [
    "import pickle\n",
    "import numpy as np\n",
    "import biceps"
   ]
  },
  {
   "cell_type": "code",
   "execution_count": 2,
   "metadata": {},
   "outputs": [],
   "source": [
    "outdir = 'results'\n",
    "n_lambdas = 2\n",
    "lambda_values = np.linspace(0.0, 1.0, n_lambdas)\n",
    "ensembles = []\n",
    "for lam in lambda_values:\n",
    "    with open(outdir+\"/ensemble_%s.pkl\"%lam,'rb') as file:\n",
    "        ensemble = pickle.load(file)\n",
    "    ensembles.append(ensemble)"
   ]
  },
  {
   "cell_type": "markdown",
   "metadata": {},
   "source": [
    "Next, we need to specify number of steps for BICePs sampling. We recommend to run at least 1M steps for converged Monte Carlo samplings.  Checking the convergence of the MCMC trajectory can be done simply using the submodule, `biceps.Convergence`.\n",
    "\n",
    "\n",
    "Using the first ensemble of the list of ensembles...\n"
   ]
  },
  {
   "cell_type": "code",
   "execution_count": 3,
   "metadata": {},
   "outputs": [],
   "source": [
    "nsteps = 1000000 # number of steps of MCMC simulation\n",
    "sampler = biceps.PosteriorSampler(ensembles[0].to_list())"
   ]
  },
  {
   "cell_type": "markdown",
   "metadata": {},
   "source": [
    "Then, we sample for 1 M steps..."
   ]
  },
  {
   "cell_type": "code",
   "execution_count": 4,
   "metadata": {},
   "outputs": [
    {
     "name": "stdout",
     "output_type": "stream",
     "text": [
      "Step\t\tState\tPara Indices\t\tAvg Energy\tAcceptance (%)\n",
      "0\t\t[21]\t[151, 117, 162]\t\t132.090\t\t100.00\tTrue\n",
      "10000\t\t[81]\t[259, 145, 208]\t\t10.626\t\t71.35\tFalse\n",
      "20000\t\t[79]\t[212, 150, 178]\t\t9.675\t\t71.71\tTrue\n",
      "30000\t\t[21]\t[240, 124, 194]\t\t5.263\t\t72.76\tTrue\n",
      "40000\t\t[40]\t[276, 130, 193]\t\t11.566\t\t72.49\tTrue\n",
      "50000\t\t[27]\t[264, 149, 204]\t\t8.813\t\t72.69\tTrue\n",
      "60000\t\t[87]\t[201, 139, 199]\t\t6.273\t\t72.49\tTrue\n",
      "70000\t\t[67]\t[236, 137, 196]\t\t6.461\t\t71.57\tTrue\n",
      "80000\t\t[59]\t[224, 137, 193]\t\t8.374\t\t71.89\tTrue\n",
      "90000\t\t[87]\t[221, 126, 202]\t\t6.072\t\t71.34\tTrue\n",
      "100000\t\t[59]\t[228, 129, 192]\t\t7.463\t\t71.12\tTrue\n",
      "110000\t\t[70]\t[252, 146, 196]\t\t10.038\t\t71.10\tTrue\n",
      "120000\t\t[21]\t[234, 145, 184]\t\t8.000\t\t71.05\tTrue\n",
      "130000\t\t[45]\t[252, 129, 193]\t\t6.933\t\t70.96\tTrue\n",
      "140000\t\t[21]\t[258, 152, 190]\t\t8.802\t\t71.34\tTrue\n",
      "150000\t\t[49]\t[217, 140, 209]\t\t11.387\t\t71.53\tTrue\n",
      "160000\t\t[87]\t[225, 129, 202]\t\t5.780\t\t71.37\tTrue\n",
      "170000\t\t[62]\t[239, 150, 193]\t\t10.392\t\t71.54\tTrue\n",
      "180000\t\t[33]\t[230, 158, 196]\t\t10.486\t\t71.61\tTrue\n",
      "190000\t\t[93]\t[245, 148, 189]\t\t9.857\t\t71.49\tTrue\n",
      "200000\t\t[17]\t[232, 138, 194]\t\t6.659\t\t71.48\tTrue\n",
      "210000\t\t[12]\t[229, 139, 194]\t\t9.532\t\t71.38\tTrue\n",
      "220000\t\t[27]\t[232, 127, 210]\t\t9.805\t\t71.08\tTrue\n",
      "230000\t\t[59]\t[262, 146, 186]\t\t8.919\t\t71.12\tTrue\n",
      "240000\t\t[67]\t[223, 148, 197]\t\t7.859\t\t71.20\tTrue\n",
      "250000\t\t[44]\t[236, 131, 191]\t\t9.363\t\t71.13\tTrue\n",
      "260000\t\t[38]\t[256, 137, 180]\t\t8.465\t\t71.23\tTrue\n",
      "270000\t\t[67]\t[224, 124, 198]\t\t7.408\t\t71.21\tTrue\n",
      "280000\t\t[87]\t[260, 121, 193]\t\t8.481\t\t71.19\tTrue\n",
      "290000\t\t[29]\t[262, 136, 194]\t\t11.680\t\t71.27\tTrue\n",
      "300000\t\t[87]\t[227, 162, 193]\t\t8.072\t\t71.17\tTrue\n",
      "310000\t\t[23]\t[292, 137, 189]\t\t11.093\t\t71.24\tTrue\n",
      "320000\t\t[87]\t[225, 134, 199]\t\t5.021\t\t71.33\tTrue\n",
      "330000\t\t[46]\t[276, 143, 176]\t\t14.394\t\t71.38\tTrue\n",
      "340000\t\t[18]\t[263, 147, 191]\t\t10.750\t\t71.53\tTrue\n",
      "350000\t\t[27]\t[227, 126, 191]\t\t7.657\t\t71.73\tFalse\n",
      "360000\t\t[87]\t[196, 162, 205]\t\t10.437\t\t71.65\tTrue\n",
      "370000\t\t[79]\t[253, 132, 194]\t\t6.941\t\t71.68\tFalse\n",
      "380000\t\t[67]\t[239, 151, 193]\t\t7.872\t\t71.73\tTrue\n",
      "390000\t\t[87]\t[242, 129, 195]\t\t5.818\t\t71.73\tTrue\n",
      "400000\t\t[87]\t[205, 140, 196]\t\t5.727\t\t71.85\tTrue\n",
      "410000\t\t[66]\t[261, 145, 178]\t\t10.218\t\t71.86\tTrue\n",
      "420000\t\t[1]\t[263, 138, 187]\t\t9.499\t\t71.87\tTrue\n",
      "430000\t\t[21]\t[241, 156, 195]\t\t9.304\t\t71.99\tTrue\n",
      "440000\t\t[48]\t[226, 148, 194]\t\t9.218\t\t71.93\tTrue\n",
      "450000\t\t[87]\t[230, 136, 191]\t\t5.423\t\t71.95\tFalse\n",
      "460000\t\t[27]\t[225, 130, 195]\t\t6.566\t\t71.87\tTrue\n",
      "470000\t\t[65]\t[244, 129, 179]\t\t7.746\t\t71.83\tTrue\n",
      "480000\t\t[28]\t[247, 131, 195]\t\t9.702\t\t71.80\tTrue\n",
      "490000\t\t[96]\t[217, 138, 190]\t\t11.403\t\t71.77\tTrue\n",
      "500000\t\t[45]\t[231, 124, 191]\t\t7.327\t\t71.73\tTrue\n",
      "510000\t\t[67]\t[204, 146, 185]\t\t11.931\t\t71.79\tTrue\n",
      "520000\t\t[56]\t[239, 123, 196]\t\t8.117\t\t71.70\tFalse\n",
      "530000\t\t[97]\t[238, 133, 199]\t\t9.076\t\t71.65\tTrue\n",
      "540000\t\t[72]\t[265, 156, 202]\t\t11.108\t\t71.73\tTrue\n",
      "550000\t\t[87]\t[250, 138, 193]\t\t6.484\t\t71.76\tFalse\n",
      "560000\t\t[87]\t[212, 137, 208]\t\t7.495\t\t71.74\tFalse\n",
      "570000\t\t[21]\t[259, 126, 191]\t\t5.565\t\t71.65\tFalse\n",
      "580000\t\t[17]\t[266, 140, 199]\t\t8.128\t\t71.62\tTrue\n",
      "590000\t\t[79]\t[248, 128, 187]\t\t6.946\t\t71.59\tFalse\n",
      "600000\t\t[87]\t[205, 131, 201]\t\t6.068\t\t71.56\tTrue\n",
      "610000\t\t[21]\t[250, 115, 198]\t\t6.921\t\t71.53\tTrue\n",
      "620000\t\t[1]\t[262, 154, 194]\t\t10.841\t\t71.57\tTrue\n",
      "630000\t\t[63]\t[257, 138, 191]\t\t9.594\t\t71.64\tTrue\n",
      "640000\t\t[56]\t[232, 147, 183]\t\t9.023\t\t71.62\tFalse\n",
      "650000\t\t[87]\t[226, 123, 201]\t\t6.309\t\t71.60\tFalse\n",
      "660000\t\t[37]\t[268, 139, 191]\t\t10.463\t\t71.69\tTrue\n",
      "670000\t\t[17]\t[228, 135, 198]\t\t6.568\t\t71.72\tTrue\n",
      "680000\t\t[90]\t[239, 129, 189]\t\t9.093\t\t71.68\tTrue\n",
      "690000\t\t[21]\t[236, 123, 185]\t\t6.247\t\t71.62\tFalse\n",
      "700000\t\t[45]\t[231, 125, 193]\t\t7.346\t\t71.65\tTrue\n",
      "710000\t\t[21]\t[248, 113, 194]\t\t5.884\t\t71.64\tTrue\n",
      "720000\t\t[87]\t[217, 146, 192]\t\t5.724\t\t71.60\tTrue\n",
      "730000\t\t[21]\t[266, 124, 201]\t\t8.161\t\t71.63\tFalse\n",
      "740000\t\t[21]\t[261, 123, 189]\t\t5.768\t\t71.60\tFalse\n",
      "750000\t\t[17]\t[232, 140, 196]\t\t6.634\t\t71.61\tTrue\n",
      "760000\t\t[87]\t[242, 151, 204]\t\t7.555\t\t71.65\tFalse\n",
      "770000\t\t[0]\t[213, 130, 190]\t\t9.687\t\t71.72\tFalse\n",
      "780000\t\t[61]\t[260, 126, 197]\t\t9.695\t\t71.69\tTrue\n",
      "790000\t\t[87]\t[252, 125, 198]\t\t7.001\t\t71.70\tFalse\n",
      "800000\t\t[37]\t[239, 158, 188]\t\t11.618\t\t71.76\tTrue\n",
      "810000\t\t[38]\t[238, 137, 194]\t\t9.608\t\t71.80\tTrue\n",
      "820000\t\t[87]\t[225, 135, 199]\t\t5.023\t\t71.85\tTrue\n",
      "830000\t\t[87]\t[227, 135, 199]\t\t5.069\t\t71.88\tTrue\n",
      "840000\t\t[79]\t[269, 145, 184]\t\t9.477\t\t71.89\tFalse\n",
      "850000\t\t[23]\t[261, 145, 191]\t\t8.685\t\t71.88\tTrue\n",
      "860000\t\t[96]\t[249, 148, 190]\t\t9.775\t\t71.92\tTrue\n",
      "870000\t\t[17]\t[254, 129, 200]\t\t7.334\t\t71.93\tTrue\n",
      "880000\t\t[11]\t[262, 152, 189]\t\t10.967\t\t72.03\tTrue\n",
      "890000\t\t[52]\t[227, 143, 205]\t\t9.885\t\t72.06\tTrue\n",
      "900000\t\t[87]\t[230, 136, 196]\t\t5.038\t\t72.06\tTrue\n",
      "910000\t\t[87]\t[219, 160, 206]\t\t8.233\t\t72.06\tTrue\n",
      "920000\t\t[87]\t[213, 147, 189]\t\t6.256\t\t72.07\tTrue\n",
      "930000\t\t[87]\t[237, 137, 210]\t\t8.767\t\t72.05\tTrue\n",
      "940000\t\t[44]\t[249, 150, 194]\t\t9.985\t\t72.05\tTrue\n",
      "950000\t\t[21]\t[237, 134, 195]\t\t6.013\t\t72.06\tTrue\n",
      "960000\t\t[0]\t[259, 130, 196]\t\t8.224\t\t72.04\tTrue\n",
      "970000\t\t[87]\t[244, 138, 195]\t\t5.905\t\t72.05\tTrue\n",
      "980000\t\t[27]\t[239, 140, 188]\t\t7.602\t\t72.04\tTrue\n",
      "990000\t\t[7]\t[261, 125, 195]\t\t7.898\t\t72.05\tTrue\n",
      "\n",
      "Accepted 72.0646 % \n",
      "\n",
      "\n",
      "Accepted [ ...Nuisance paramters..., state] %\n",
      "Accepted [32.7249 31.1523 31.1523  8.1874] % \n",
      "\n"
     ]
    }
   ],
   "source": [
    "sampler.sample(nsteps=nsteps, print_freq=10000, verbose=True)"
   ]
  },
  {
   "cell_type": "markdown",
   "metadata": {},
   "source": [
    "Now, process and save the results for the next step, [Analysis](https://biceps.readthedocs.io/en/latest/examples/Tutorials/Prep_Rest_Post_Ana/analysis.html)."
   ]
  },
  {
   "cell_type": "code",
   "execution_count": 5,
   "metadata": {},
   "outputs": [],
   "source": [
    "lam = lambda_values[0]\n",
    "sampler.traj.process_results(outdir+'/traj_lambda%2.2f.npz'%(lam))\n",
    "outfilename = 'sampler_lambda%2.2f.pkl'%(lam)\n",
    "filename = outdir+'/sampler_lambda%2.2f.pkl'%(lam)\n",
    "biceps.toolbox.save_object(sampler, filename)"
   ]
  },
  {
   "cell_type": "markdown",
   "metadata": {},
   "source": [
    "Then, we will do the same thing for the second ensemble in the list of ensembles.  **Note that we separated them for simplicity of the tutorial.**"
   ]
  },
  {
   "cell_type": "code",
   "execution_count": 6,
   "metadata": {},
   "outputs": [
    {
     "name": "stdout",
     "output_type": "stream",
     "text": [
      "\n",
      "Accepted 65.66340000000001 % \n",
      "\n",
      "\n",
      "Accepted [ ...Nuisance paramters..., state] %\n",
      "Accepted [32.7584 31.3324 31.3324  1.5726] % \n",
      "\n"
     ]
    }
   ],
   "source": [
    "lam = lambda_values[1]\n",
    "sampler = biceps.PosteriorSampler(ensembles[1].to_list())\n",
    "sampler.sample(nsteps=nsteps, verbose=False)\n",
    "sampler.traj.process_results(outdir+'/traj_lambda%2.2f.npz'%(lam))\n",
    "filename = outdir+'/sampler_lambda%2.2f.pkl'%(lam)\n",
    "biceps.toolbox.save_object(sampler, filename)"
   ]
  },
  {
   "cell_type": "markdown",
   "metadata": {},
   "source": [
    "<h1 style=\"text-align: center;font-size: 18pt;\">Conclusion</h1>\n",
    "\n",
    "In this tutorial, we used the `biceps.PosteriorSampler` class to perform MCMC sampling given the ensemble Python object. In the [next tutorial](https://biceps.readthedocs.io/en/latest/examples/Tutorials/Prep_Rest_Post_Ana/analysis.html), we will analyze our trajectory data."
   ]
  },
  {
   "cell_type": "markdown",
   "metadata": {},
   "source": [
    "<h6 style=\"align: justify;font-size: 12pt\"># <span style=\"color:red;\">NOTE</span>: The following cell is for pretty notebook rendering</h6>"
   ]
  },
  {
   "cell_type": "code",
   "execution_count": 9,
   "metadata": {},
   "outputs": [
    {
     "data": {
      "text/html": [
       "\n",
       "<style>\n",
       "    @font-face {\n",
       "        font-family: \"Computer Modern\";\n",
       "        src: url('http://mirrors.ctan.org/fonts/cm-unicode/fonts/otf/cmunss.otf');\n",
       "    }\n",
       "    #notebook { /* centers the page content */\n",
       "    padding-left:8%;\n",
       "    padding-right:9%;\n",
       "    }\n",
       "    #ipython-main-app {\n",
       "        position: relative;\n",
       "    }\n",
       "    #jupyter-main-app {\n",
       "        position: relative;\n",
       "    }\n",
       "    div.cell{\n",
       "        width:98%;\n",
       "        margin-left:4% !important;*/\n",
       "        margin-right:4%;\n",
       "    }\n",
       "    h1 {\n",
       "        font-family: \"Charis SIL\", Palatino, serif;\n",
       "        text-align: center;\n",
       "    }\n",
       "    h4{\n",
       "        margin-top:12px;\n",
       "        margin-bottom: 3px;\n",
       "    }\n",
       "    p {\n",
       "        display: block;\n",
       "        text-align: justify;\n",
       "    }\n",
       "    div.text_cell_render{\n",
       "        font-family: Computer Modern, \"Helvetica Neue\", Arial, Helvetica, Geneva, sans-serif;\n",
       "        line-height: 145%;\n",
       "        font-size: 12pt;\n",
       "        width:99%;\n",
       "        margin-left:auto;\n",
       "        margin-right:auto;\n",
       "\ttext-align: justify;\n",
       "    }\n",
       "    .output_png {\n",
       "        display: block;/*table-cell;*/\n",
       "        text-align: center;\n",
       "        align: center;\n",
       "        vertical-align: middle;\n",
       "        margin-left: auto;\n",
       "        margin-right: auto;\n",
       "        width: auto; /* width: 100%;*/\n",
       "    }\n",
       "    div.output_area pre {font-weight: normal; text-align: justify; }\n",
       "    .warning{\n",
       "        color: rgb( 240, 20, 20 )\n",
       "        }\n",
       "    .CodeMirror{\n",
       "            font-family: \"Source Code Pro\", source-code-pro,Consolas, monospace;\n",
       "    }\n",
       "    .prompt{\n",
       "        display: None;\n",
       "    }\n",
       "    .text_cell_render p {\n",
       "        display: block;\n",
       "        text-align: justify;\n",
       "    }\n",
       "    .text_cell_render h5 {\n",
       "        font-weight: 300;\n",
       "        font-size: 16pt;\n",
       "        color: #4057A1;\n",
       "        font-style: italic;\n",
       "        margin-bottom: .5em;\n",
       "        margin-top: 0.5em;\n",
       "        display: block;\n",
       "    }\n",
       "    /* override table width restrictions as found on https://github.com/getpelican/pelican/issues/1311 */\n",
       "    .wy-table-responsive table td, .wy-table-responsive table th {\n",
       "        /* !important prevents the common CSS stylesheets from\n",
       "           overriding this as on RTD they are loaded after this stylesheet */\n",
       "        white-space: normal !important;\n",
       "    }\n",
       "\n",
       "    .wy-table-responsive {\n",
       "        overflow: visible !important;\n",
       "    }\n",
       "</style>\n",
       "\n",
       "\n",
       "<!-- MathJax configuration -->\n",
       "<script type=\"text/x-mathjax-config\">\n",
       "    src=\"http://cdn.mathjax.org/mathjax/latest/MathJax.js?config=TeX-AMS-MML_HTMLorMML\">\n",
       "    MathJax.Hub.Config({\n",
       "                        TeX: {\n",
       "                           extensions: [\"AMSmath.js\"]\n",
       "                           },\n",
       "                tex2jax: {\n",
       "                    inlineMath: [ ['$','$'], [\"\\\\(\",\"\\\\)\"] ],\n",
       "                    displayMath: [ ['$$','$$'], [\"\\\\[\",\"\\\\]\"] ]\n",
       "                },\n",
       "                displayAlign: 'center', // Change this to 'center' to center equations.\n",
       "                \"HTML-CSS\": {\n",
       "                    styles: {'.MathJax_Display': {\"margin\": 4}},\n",
       "                    linebreaks: { automatic: true }}\n",
       "        });\n",
       "</script>\n",
       "\n",
       "\n",
       "\n"
      ],
      "text/plain": [
       "<IPython.core.display.HTML object>"
      ]
     },
     "execution_count": 9,
     "metadata": {},
     "output_type": "execute_result"
    }
   ],
   "source": [
    "from IPython.core.display import HTML\n",
    "def css_styling():\n",
    "    styles = open(\"../../../theme.css\", \"r\").read()\n",
    "    return HTML(styles)\n",
    "css_styling()"
   ]
  }
 ],
 "metadata": {
  "kernelspec": {
   "display_name": "Python 3",
   "language": "python",
   "name": "python3"
  },
  "language_info": {
   "codemirror_mode": {
    "name": "ipython",
    "version": 3
   },
   "file_extension": ".py",
   "mimetype": "text/x-python",
   "name": "python",
   "nbconvert_exporter": "python",
   "pygments_lexer": "ipython3",
   "version": "3.7.3"
  }
 },
 "nbformat": 4,
 "nbformat_minor": 2
}
