{
 "cells": [
  {
   "cell_type": "markdown",
   "metadata": {},
   "source": [
    "Ensemble\n",
    "========\n",
    "\n",
    "<hr style=\"height:2.5px\">\n",
    "\n",
    "This tutorial shows the user how to appropriately use the `biceps.Ensemble` class to construct the ensemble and apply data restraints that were prepared from the previous tutorial ([Preparation](https://biceps.readthedocs.io/en/latest/examples/Tutorials/Prep_Rest_Post_Ana/preparation.html)). **Please note that in order to compute the relative free energies, one must perform sampling for at least two lambda values.** \n",
    "\n",
    "<hr style=\"height:2.5px\">"
   ]
  },
  {
   "cell_type": "code",
   "execution_count": 1,
   "metadata": {},
   "outputs": [
    {
     "name": "stdout",
     "output_type": "stream",
     "text": [
      "BICePs - Bayesian Inference of Conformational Populations, Version 2.0\n"
     ]
    }
   ],
   "source": [
    "import numpy as np\n",
    "import pandas as pd\n",
    "import biceps"
   ]
  },
  {
   "cell_type": "code",
   "execution_count": 2,
   "metadata": {},
   "outputs": [
    {
     "name": "stdout",
     "output_type": "stream",
     "text": [
      "Possible input data extensions: ['H', 'Ca', 'N', 'J', 'noe', 'pf']\n"
     ]
    }
   ],
   "source": [
    "print(f\"Possible input data extensions: {biceps.toolbox.list_possible_extensions()}\")"
   ]
  },
  {
   "cell_type": "code",
   "execution_count": 3,
   "metadata": {},
   "outputs": [
    {
     "name": "stdout",
     "output_type": "stream",
     "text": [
      "Input data: ['J', 'noe']\n"
     ]
    }
   ],
   "source": [
    "####### Data and Output Directories #######\n",
    "energies = np.loadtxt('cineromycin_B/cineromycinB_QMenergies.dat')*627.509  # convert from hartrees to kcal/mol\n",
    "energies = energies/0.5959   # convert to reduced free energies F = f/kT\n",
    "energies -= energies.min()  # set ground state to zero, just in case\n",
    "\n",
    "# Point to directory that contains input files \n",
    "#input_data = biceps.toolbox.sort_data('cineromycin_B/J_NOE')\n",
    "input_data = biceps.toolbox.sort_data(\"J_NOE\")\n",
    "print(f\"Input data: {biceps.toolbox.list_extensions(input_data)}\")\n",
    "\n",
    "# Make a new directory if we have to\n",
    "outdir = 'results'\n",
    "biceps.toolbox.mkdir(outdir)"
   ]
  },
  {
   "cell_type": "markdown",
   "metadata": {},
   "source": [
    "Another key parameter for BICePs set-up is the type of reference potential for each experimental observables. More information of reference potential can be found [here](https://biceps.readthedocs.io/en/latest/theory.html).\n",
    "\n",
    "Three reference potentials are supported in BICePs: uniform ('uniform'), exponential ('exp'), Gaussian ('gau').  \n",
    "\n",
    "As we found in previous research, exponential reference potential is useful in most cases. Some higher level task may require more in reference potential selection (e.g [force field parametrization](https://pubs.acs.org/doi/10.1021/acs.jpcb.7b11871)).\n",
    "\n",
    "**(Note: It will be helpful to print out what is the order of experimental observables included in BICePs sampling as shown above.)**\n",
    "\n",
    "The order of the parameters below must follow the order of `biceps.toolbox.list_extensions(data)`. Therefore, our parameters will be a list of dictionaries e.g., $\\text{[{'J'}, {'noe'}]}$. Recall, in the last section we saved J coupling files as `*.pkl` files and NOE distances as `*.csv` files. **If the default (`*.pkl` files) is not being used, then we need to specify this inside the corresponding dictionary...**"
   ]
  },
  {
   "cell_type": "code",
   "execution_count": 4,
   "metadata": {},
   "outputs": [
    {
     "data": {
      "text/html": [
       "<div>\n",
       "<style scoped>\n",
       "    .dataframe tbody tr th:only-of-type {\n",
       "        vertical-align: middle;\n",
       "    }\n",
       "\n",
       "    .dataframe tbody tr th {\n",
       "        vertical-align: top;\n",
       "    }\n",
       "\n",
       "    .dataframe thead th {\n",
       "        text-align: right;\n",
       "    }\n",
       "</style>\n",
       "<table border=\"1\" class=\"dataframe\">\n",
       "  <thead>\n",
       "    <tr style=\"text-align: right;\">\n",
       "      <th></th>\n",
       "      <th>ref</th>\n",
       "      <th>sigma</th>\n",
       "      <th>fmt</th>\n",
       "      <th>gamma</th>\n",
       "    </tr>\n",
       "  </thead>\n",
       "  <tbody>\n",
       "    <tr>\n",
       "      <th>0</th>\n",
       "      <td>uniform</td>\n",
       "      <td>(0.05, 20.0, 1.02)</td>\n",
       "      <td>pickle</td>\n",
       "      <td>NaN</td>\n",
       "    </tr>\n",
       "    <tr>\n",
       "      <th>1</th>\n",
       "      <td>exp</td>\n",
       "      <td>(0.05, 5.0, 1.02)</td>\n",
       "      <td>csv</td>\n",
       "      <td>(0.2, 5.0, 1.01)</td>\n",
       "    </tr>\n",
       "  </tbody>\n",
       "</table>\n",
       "</div>"
      ],
      "text/plain": [
       "       ref               sigma     fmt             gamma\n",
       "0  uniform  (0.05, 20.0, 1.02)  pickle               NaN\n",
       "1      exp   (0.05, 5.0, 1.02)     csv  (0.2, 5.0, 1.01)"
      ]
     },
     "execution_count": 4,
     "metadata": {},
     "output_type": "execute_result"
    }
   ],
   "source": [
    "n_lambdas = 2\n",
    "lambda_values = np.linspace(0.0, 1.0, n_lambdas)\n",
    "parameters = [\n",
    "        dict(ref='uniform', sigma=(0.05, 20.0, 1.02), fmt=\"pickle\"),\n",
    "        dict(ref='exp', sigma=(0.05, 5.0, 1.02), gamma=(0.2, 5.0, 1.01), fmt=\"csv\")\n",
    "        ]\n",
    "pd.DataFrame(parameters)"
   ]
  },
  {
   "cell_type": "markdown",
   "metadata": {},
   "source": [
    "Let's print out the allowed $\\sigma_{J}$ space when `sigma=(0.05, 20.0, 1.02)`."
   ]
  },
  {
   "cell_type": "code",
   "execution_count": 5,
   "metadata": {},
   "outputs": [
    {
     "name": "stdout",
     "output_type": "stream",
     "text": [
      "[ 0.05        0.051       0.05202     0.0530604   0.05412161  0.05520404\n",
      "  0.05630812  0.05743428  0.05858297  0.05975463  0.06094972  0.06216872\n",
      "  0.06341209  0.06468033  0.06597394  0.06729342  0.06863929  0.07001207\n",
      "  0.07141231  0.07284056  0.07429737  0.07578332  0.07729898  0.07884496\n",
      "  0.08042186  0.0820303   0.08367091  0.08534432  0.08705121  0.08879223\n",
      "  0.09056808  0.09237944  0.09422703  0.09611157  0.0980338   0.09999448\n",
      "  0.10199437  0.10403425  0.10611494  0.10823724  0.11040198  0.11261002\n",
      "  0.11486222  0.11715947  0.11950266  0.12189271  0.12433056  0.12681718\n",
      "  0.12935352  0.13194059  0.1345794   0.13727099  0.14001641  0.14281674\n",
      "  0.14567307  0.14858653  0.15155826  0.15458943  0.15768122  0.16083484\n",
      "  0.16405154  0.16733257  0.17067922  0.17409281  0.17757466  0.18112616\n",
      "  0.18474868  0.18844365  0.19221253  0.19605678  0.19997791  0.20397747\n",
      "  0.20805702  0.21221816  0.21646252  0.22079177  0.22520761  0.22971176\n",
      "  0.234306    0.23899212  0.24377196  0.2486474   0.25362034  0.25869275\n",
      "  0.26386661  0.26914394  0.27452682  0.28001735  0.2856177   0.29133006\n",
      "  0.29715666  0.30309979  0.30916179  0.31534502  0.32165192  0.32808496\n",
      "  0.33464666  0.34133959  0.34816638  0.35512971  0.36223231  0.36947695\n",
      "  0.37686649  0.38440382  0.3920919   0.39993374  0.40793241  0.41609106\n",
      "  0.42441288  0.43290114  0.44155916  0.45039034  0.45939815  0.46858611\n",
      "  0.47795783  0.48751699  0.49726733  0.50721268  0.51735693  0.52770407\n",
      "  0.53825815  0.54902331  0.56000378  0.57120386  0.58262793  0.59428049\n",
      "  0.6061661   0.61828942  0.63065521  0.64326832  0.65613368  0.66925636\n",
      "  0.68264148  0.69629431  0.7102202   0.7244246   0.7389131   0.75369136\n",
      "  0.76876519  0.78414049  0.7998233   0.81581976  0.83213616  0.84877888\n",
      "  0.86575446  0.88306955  0.90073094  0.91874556  0.93712047  0.95586288\n",
      "  0.97498014  0.99447974  1.01436934  1.03465672  1.05534986  1.07645685\n",
      "  1.09798599  1.11994571  1.14234463  1.16519152  1.18849535  1.21226526\n",
      "  1.23651056  1.26124077  1.28646559  1.3121949   1.3384388   1.36520757\n",
      "  1.39251172  1.42036196  1.4487692   1.47774458  1.50729947  1.53744546\n",
      "  1.56819437  1.59955826  1.63154942  1.66418041  1.69746402  1.7314133\n",
      "  1.76604157  1.8013624   1.83738965  1.87413744  1.91162019  1.94985259\n",
      "  1.98884964  2.02862664  2.06919917  2.11058315  2.15279482  2.19585071\n",
      "  2.23976773  2.28456308  2.33025434  2.37685943  2.42439662  2.47288455\n",
      "  2.52234224  2.57278909  2.62424487  2.67672977  2.73026436  2.78486965\n",
      "  2.84056704  2.89737838  2.95532595  3.01443247  3.07472112  3.13621554\n",
      "  3.19893985  3.26291865  3.32817702  3.39474056  3.46263537  3.53188808\n",
      "  3.60252584  3.67457636  3.74806789  3.82302924  3.89948983  3.97747963\n",
      "  4.05702922  4.1381698   4.2209332   4.30535186  4.3914589   4.47928808\n",
      "  4.56887384  4.66025132  4.75345634  4.84852547  4.94549598  5.0444059\n",
      "  5.14529402  5.2481999   5.35316389  5.46022717  5.56943172  5.68082035\n",
      "  5.79443676  5.91032549  6.028532    6.14910264  6.2720847   6.39752639\n",
      "  6.52547692  6.65598646  6.78910618  6.92488831  7.06338607  7.2046538\n",
      "  7.34874687  7.49572181  7.64563625  7.79854897  7.95451995  8.11361035\n",
      "  8.27588256  8.44140021  8.61022821  8.78243278  8.95808143  9.13724306\n",
      "  9.31998792  9.50638768  9.69651543  9.89044574 10.08825466 10.29001975\n",
      " 10.49582014 10.70573655 10.91985128 11.1382483  11.36101327 11.58823354\n",
      " 11.81999821 12.05639817 12.29752613 12.54347666 12.79434619 13.05023311\n",
      " 13.31123778 13.57746253 13.84901178 14.12599202 14.40851186 14.69668209\n",
      " 14.99061574 15.29042805 15.59623661 15.90816134 16.22632457 16.55085106\n",
      " 16.88186808 17.21950545 17.56389555 17.91517347 18.27347693 18.63894647\n",
      " 19.0117254  19.39195991 19.77979911]\n"
     ]
    }
   ],
   "source": [
    "allowed_sigma = np.exp(np.arange(np.log(0.05), np.log(20.0), np.log(1.02)))\n",
    "print(allowed_sigma)"
   ]
  },
  {
   "cell_type": "markdown",
   "metadata": {},
   "source": [
    "<h1 style=\"text-align: left;font-size: 18pt;\">Quick note on lambda values:</h1>\n",
    "\n",
    "We need to specify what lambda value(s) we want to use in BICePs samplings. Briefly, lambda values are similar to the parameters used in free energy perturbation (FEP) and has effect on the BICePs score. The lambda values represent how much prior information from computational modeling is included in BICePs sampling (1.0 means all, 0.0 means none). As we explained in [this work](https://pubs.acs.org/doi/10.1021/acs.jpcb.7b11871), one can consider BICePs score as the relative free energy change between different models. More lambda values will increase the samplings for [multistate Bennett acceptance ratio (MBAR)](http://www.alchemistry.org/wiki/Multistate_Bennett_Acceptance_Ratio) predictions in free energy change and populations. However more lambda values also will slow down the whole process of BICePs (as more samplings need to run), so balancing the accuracy and efficiency is important. To successfully finish a BICePs sampling, lambda values of 0.0 and 1.0 are necessary. Based on our experience, three lambda values of 0.0,0.5,1.0 are suggested."
   ]
  },
  {
   "cell_type": "code",
   "execution_count": 6,
   "metadata": {},
   "outputs": [
    {
     "name": "stdout",
     "output_type": "stream",
     "text": [
      "lambda: 0.0\n",
      "Saving ensemble_0.0.pkl ...\n",
      "lambda: 1.0\n",
      "Saving ensemble_1.0.pkl ...\n"
     ]
    }
   ],
   "source": [
    "for lam in lambda_values:\n",
    "    print(f\"lambda: {lam}\")\n",
    "    ensemble = biceps.Ensemble(lam, energies)\n",
    "    ensemble.initialize_restraints(input_data, parameters)\n",
    "    # Save each ensemble as a pickle file\n",
    "    print(f\"Saving ensemble_{lam}.pkl ...\")\n",
    "    biceps.toolbox.save_object(ensemble, outdir+\"/ensemble_%s.pkl\"%lam)"
   ]
  },
  {
   "cell_type": "markdown",
   "metadata": {},
   "source": [
    "<h1 style=\"text-align: left;font-size: 18pt;\"> Let's take a look at the ensemble (lam=1.0)...</h1>\n",
    "\n",
    "The ensemble consists of a list of 2 restraint objects for each state. Here we are showing the first 10 states."
   ]
  },
  {
   "cell_type": "code",
   "execution_count": 7,
   "metadata": {},
   "outputs": [
    {
     "name": "stdout",
     "output_type": "stream",
     "text": [
      "[[<biceps.Restraint.Restraint_J object at 0x7fa139011438>, <biceps.Restraint.Restraint_noe object at 0x7fa13ce13e48>], [<biceps.Restraint.Restraint_J object at 0x7fa139478470>, <biceps.Restraint.Restraint_noe object at 0x7fa13d086470>], [<biceps.Restraint.Restraint_J object at 0x7fa139478240>, <biceps.Restraint.Restraint_noe object at 0x7fa1394752e8>], [<biceps.Restraint.Restraint_J object at 0x7fa13ce235f8>, <biceps.Restraint.Restraint_noe object at 0x7fa13ce5c5c0>], [<biceps.Restraint.Restraint_J object at 0x7fa13ce23cc0>, <biceps.Restraint.Restraint_noe object at 0x7fa13ce235c0>], [<biceps.Restraint.Restraint_J object at 0x7fa13ce796d8>, <biceps.Restraint.Restraint_noe object at 0x7fa13ce5ca90>], [<biceps.Restraint.Restraint_J object at 0x7fa13ce5c908>, <biceps.Restraint.Restraint_noe object at 0x7fa13ce79da0>], [<biceps.Restraint.Restraint_J object at 0x7fa13ce79710>, <biceps.Restraint.Restraint_noe object at 0x7fa13ce5cd68>], [<biceps.Restraint.Restraint_J object at 0x7fa13ce5ca58>, <biceps.Restraint.Restraint_noe object at 0x7fa13ce79e10>], [<biceps.Restraint.Restraint_J object at 0x7fa13ce79518>, <biceps.Restraint.Restraint_noe object at 0x7fa13ce5cac8>]]\n"
     ]
    }
   ],
   "source": [
    "print(ensemble.to_list()[:10])"
   ]
  },
  {
   "cell_type": "markdown",
   "metadata": {},
   "source": [
    "<h1 style=\"text-align: center;font-size: 18pt;\">Conclusion</h1>\n",
    "\n",
    "In this tutorial, we explained how to construct an [ensemble](https://biceps.readthedocs.io/en/latest/biceps.html#ensemble) (for each lambda) of [restraints](https://biceps.readthedocs.io/en/latest/biceps.html#restraint) for each state, which we saved as a pickle file. In the next tutorial, [PosteriorSampler](https://biceps.readthedocs.io/en/latest/examples/Tutorials/Prep_Rest_Post_Ana/posteriorsampler.html) we will Sample the posterior distribution by using the `biceps.PosteriorSampler` class."
   ]
  },
  {
   "cell_type": "markdown",
   "metadata": {},
   "source": [
    "<h6 style=\"align: justify;font-size: 12pt\"># <span style=\"color:red;\">NOTE</span>: The following cell is for pretty notebook rendering</h6>"
   ]
  },
  {
   "cell_type": "code",
   "execution_count": 8,
   "metadata": {},
   "outputs": [
    {
     "data": {
      "text/html": [
       "\n",
       "<style>\n",
       "    @font-face {\n",
       "        font-family: \"Computer Modern\";\n",
       "        src: url('http://mirrors.ctan.org/fonts/cm-unicode/fonts/otf/cmunss.otf');\n",
       "    }\n",
       "    #notebook { /* centers the page content */\n",
       "    padding-left:8%;\n",
       "    padding-right:9%;\n",
       "    }\n",
       "    #ipython-main-app {\n",
       "        position: relative;\n",
       "    }\n",
       "    #jupyter-main-app {\n",
       "        position: relative;\n",
       "    }\n",
       "    div.cell{\n",
       "        width:98%;\n",
       "        margin-left:4% !important;*/\n",
       "        margin-right:4%;\n",
       "    }\n",
       "    h1 {\n",
       "        font-family: \"Charis SIL\", Palatino, serif;\n",
       "        text-align: center;\n",
       "    }\n",
       "    h4{\n",
       "        margin-top:12px;\n",
       "        margin-bottom: 3px;\n",
       "    }\n",
       "    p {\n",
       "        display: block;\n",
       "        text-align: justify;\n",
       "        word-wrap: break-word;\n",
       "    }\n",
       "    div.text_cell_render{\n",
       "        font-family: Computer Modern, \"Helvetica Neue\", Arial, Helvetica, Geneva, sans-serif;\n",
       "        line-height: 145%;\n",
       "        font-size: 12pt;\n",
       "        width:99%;\n",
       "        margin-left:auto;\n",
       "        margin-right:auto;\n",
       "\ttext-align: justify;\n",
       "        word-wrap: break-word;\n",
       "    }\n",
       "    .output_png {\n",
       "        display: block;/*table-cell;*/\n",
       "        text-align: center;\n",
       "        align: center;\n",
       "        vertical-align: middle;\n",
       "        margin-left: auto;\n",
       "        margin-right: auto;\n",
       "        width: auto; /* width: 100%;*/\n",
       "    }\n",
       "    div.output_area pre {font-weight: normal; text-align: justify; }\n",
       "    .warning{\n",
       "        color: rgb( 240, 20, 20 )\n",
       "        }\n",
       "    .CodeMirror{\n",
       "            font-family: \"Source Code Pro\", source-code-pro,Consolas, monospace;\n",
       "    }\n",
       "    .prompt{\n",
       "        display: None;\n",
       "    }\n",
       "    .text_cell_render p {\n",
       "        display: block;\n",
       "        text-align: justify;\n",
       "        word-wrap: break-word;\n",
       "    }\n",
       "    .text_cell_render h5 {\n",
       "        font-weight: 300;\n",
       "        font-size: 16pt;\n",
       "        color: #4057A1;\n",
       "        font-style: italic;\n",
       "        margin-bottom: .5em;\n",
       "        margin-top: 0.5em;\n",
       "        display: block;\n",
       "    }\n",
       "    /* override table width restrictions as found on https://github.com/getpelican/pelican/issues/1311 */\n",
       "    .wy-table-responsive table td, .wy-table-responsive table th {\n",
       "        /* !important prevents the common CSS stylesheets from\n",
       "           overriding this as on RTD they are loaded after this stylesheet */\n",
       "        white-space: normal !important;\n",
       "    }\n",
       "\n",
       "    .wy-table-responsive {\n",
       "        overflow: visible !important;\n",
       "    }\n",
       "</style>\n",
       "\n",
       "\n",
       "<!-- MathJax configuration -->\n",
       "<script type=\"text/x-mathjax-config\">\n",
       "    src=\"http://cdn.mathjax.org/mathjax/latest/MathJax.js?config=TeX-AMS-MML_HTMLorMML\">\n",
       "    MathJax.Hub.Config({\n",
       "                        TeX: {\n",
       "                           extensions: [\"AMSmath.js\"]\n",
       "                           },\n",
       "                tex2jax: {\n",
       "                    inlineMath: [ ['$','$'], [\"\\\\(\",\"\\\\)\"] ],\n",
       "                    displayMath: [ ['$$','$$'], [\"\\\\[\",\"\\\\]\"] ]\n",
       "                },\n",
       "                displayAlign: 'center', // Change this to 'center' to center equations.\n",
       "                \"HTML-CSS\": {\n",
       "                    styles: {'.MathJax_Display': {\"margin\": 4}},\n",
       "                    linebreaks: { automatic: true }}\n",
       "        });\n",
       "</script>\n",
       "\n",
       "\n"
      ],
      "text/plain": [
       "<IPython.core.display.HTML object>"
      ]
     },
     "execution_count": 8,
     "metadata": {},
     "output_type": "execute_result"
    }
   ],
   "source": [
    "from IPython.core.display import HTML\n",
    "def css_styling():\n",
    "    styles = open(\"../../../theme.css\", \"r\").read()\n",
    "    return HTML(styles)\n",
    "css_styling()"
   ]
  }
 ],
 "metadata": {
  "kernelspec": {
   "display_name": "Python 3",
   "language": "python",
   "name": "python3"
  },
  "language_info": {
   "codemirror_mode": {
    "name": "ipython",
    "version": 3
   },
   "file_extension": ".py",
   "mimetype": "text/x-python",
   "name": "python",
   "nbconvert_exporter": "python",
   "pygments_lexer": "ipython3",
   "version": "3.7.3"
  }
 },
 "nbformat": 4,
 "nbformat_minor": 2
}
