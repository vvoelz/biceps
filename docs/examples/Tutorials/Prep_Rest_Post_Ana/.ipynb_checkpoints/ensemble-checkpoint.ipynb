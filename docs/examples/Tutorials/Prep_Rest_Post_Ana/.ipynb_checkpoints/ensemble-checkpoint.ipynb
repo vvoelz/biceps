{
 "cells": [
  {
   "cell_type": "markdown",
   "metadata": {},
   "source": [
    "Ensemble\n",
    "========\n",
    "\n",
    "<hr style=\"height:2.5px\">\n",
    "\n",
    "This tutorial shows the user how to appropriately use the `biceps.Ensemble` class to construct the ensemble and apply data restraints that were prepared from the previous tutorial ([Preparation](https://biceps.readthedocs.io/en/latest/examples/Tutorials/Prep_Rest_Post_Ana/preparation.html)). **Please note that in order to compute the relative free energies, one must perform sampling for at least two lambda values.** \n",
    "\n",
    "<hr style=\"height:2.5px\">"
   ]
  },
  {
   "cell_type": "code",
   "execution_count": 1,
   "metadata": {},
   "outputs": [
    {
     "name": "stdout",
     "output_type": "stream",
     "text": [
      "BICePs - Bayesian Inference of Conformational Populations, Version 2.0\n"
     ]
    }
   ],
   "source": [
    "import numpy as np\n",
    "import pandas as pd\n",
    "import biceps"
   ]
  },
  {
   "cell_type": "code",
   "execution_count": 2,
   "metadata": {},
   "outputs": [
    {
     "name": "stdout",
     "output_type": "stream",
     "text": [
      "Possible input data extensions: ['H', 'Ca', 'N', 'J', 'noe', 'pf']\n"
     ]
    }
   ],
   "source": [
    "print(f\"Possible input data extensions: {biceps.toolbox.list_possible_extensions()}\")"
   ]
  },
  {
   "cell_type": "code",
   "execution_count": 3,
   "metadata": {},
   "outputs": [
    {
     "name": "stdout",
     "output_type": "stream",
     "text": [
      "Input data: ['J', 'noe']\n"
     ]
    }
   ],
   "source": [
    "####### Data and Output Directories #######\n",
    "energies = np.loadtxt('cineromycin_B/cineromycinB_QMenergies.dat')*627.509  # convert from hartrees to kcal/mol\n",
    "energies = energies/0.5959   # convert to reduced free energies F = f/kT\n",
    "energies -= energies.min()  # set ground state to zero, just in case\n",
    "\n",
    "# Point to directory that contains input files \n",
    "input_data = biceps.toolbox.sort_data('cineromycin_B/J_NOE')\n",
    "print(f\"Input data: {biceps.toolbox.list_extensions(input_data)}\")\n",
    "\n",
    "# Make a new directory if we have to\n",
    "outdir = 'results'\n",
    "biceps.toolbox.mkdir(outdir)"
   ]
  },
  {
   "cell_type": "markdown",
   "metadata": {},
   "source": [
    "Another key parameter for BICePs set-up is the type of reference potential for each experimental observables. More information of reference potential can be found [here](https://biceps.readthedocs.io/en/latest/theory.html).\n",
    "\n",
    "Three reference potentials are supported in BICePs: uniform ('uniform'), exponential ('exp'), Gaussian ('gau').  \n",
    "\n",
    "As we found in previous research, exponential reference potential is useful in most cases. Some higher level task may require more in reference potential selection (e.g [force field parametrization](https://pubs.acs.org/doi/10.1021/acs.jpcb.7b11871)).\n",
    "\n",
    "**(Note: It will be helpful to print out what is the order of experimental observables included in BICePs sampling as shown above.)**\n",
    "\n",
    "The order of the parameters below must follow the order of `biceps.toolbox.list_extensions(data)`. Therefore, our parameters will be a list of dictionaries e.g., $\\text{[{'J'}, {'noe'}]}$. "
   ]
  },
  {
   "cell_type": "code",
   "execution_count": 5,
   "metadata": {},
   "outputs": [
    {
     "data": {
      "text/html": [
       "<div>\n",
       "<style scoped>\n",
       "    .dataframe tbody tr th:only-of-type {\n",
       "        vertical-align: middle;\n",
       "    }\n",
       "\n",
       "    .dataframe tbody tr th {\n",
       "        vertical-align: top;\n",
       "    }\n",
       "\n",
       "    .dataframe thead th {\n",
       "        text-align: right;\n",
       "    }\n",
       "</style>\n",
       "<table border=\"1\" class=\"dataframe\">\n",
       "  <thead>\n",
       "    <tr style=\"text-align: right;\">\n",
       "      <th></th>\n",
       "      <th>ref</th>\n",
       "      <th>sigma</th>\n",
       "      <th>gamma</th>\n",
       "    </tr>\n",
       "  </thead>\n",
       "  <tbody>\n",
       "    <tr>\n",
       "      <th>0</th>\n",
       "      <td>uniform</td>\n",
       "      <td>(0.05, 20.0, 1.02)</td>\n",
       "      <td>NaN</td>\n",
       "    </tr>\n",
       "    <tr>\n",
       "      <th>1</th>\n",
       "      <td>exp</td>\n",
       "      <td>(0.05, 5.0, 1.02)</td>\n",
       "      <td>(0.2, 5.0, 1.01)</td>\n",
       "    </tr>\n",
       "  </tbody>\n",
       "</table>\n",
       "</div>"
      ],
      "text/plain": [
       "       ref               sigma             gamma\n",
       "0  uniform  (0.05, 20.0, 1.02)               NaN\n",
       "1      exp   (0.05, 5.0, 1.02)  (0.2, 5.0, 1.01)"
      ]
     },
     "execution_count": 5,
     "metadata": {},
     "output_type": "execute_result"
    }
   ],
   "source": [
    "n_lambdas = 2\n",
    "lambda_values = np.linspace(0.0, 1.0, n_lambdas)\n",
    "parameters = [\n",
    "        {\"ref\": 'uniform', \"sigma\": (0.05, 20.0, 1.02)},\n",
    "        {\"ref\": 'exp', \"sigma\": (0.05, 5.0, 1.02), \"gamma\": (0.2, 5.0, 1.01)}\n",
    "        ]\n",
    "pd.DataFrame(parameters)"
   ]
  },
  {
   "cell_type": "markdown",
   "metadata": {},
   "source": [
    "<h1 style=\"text-align: left;font-size: 18pt;\">Quick note on lambda values:</h1>\n",
    "\n",
    "We need to specify what lambda value(s) we want to use in BICePs samplings. Briefly, lambda values are similar to the parameters used in free energy perturbation (FEP) and has effect on the BICePs score. The lambda values represent how much prior information from computational modeling is included in BICePs sampling (1.0 means all, 0.0 means none). As we explained in [this work](https://pubs.acs.org/doi/10.1021/acs.jpcb.7b11871), one can consider BICePs score as the relative free energy change between different models. More lambda values will increase the samplings for [multistate Bennett acceptance ratio (MBAR)](http://www.alchemistry.org/wiki/Multistate_Bennett_Acceptance_Ratio) predictions in free energy change and populations. However more lambda values also will slow down the whole process of BICePs (as more samplings need to run), so balancing the accuracy and efficiency is important. To successfully finish a BICePs sampling, lambda values of 0.0 and 1.0 are necessary. Based on our experience, three lambda values of 0.0,0.5,1.0 are suggested."
   ]
  },
  {
   "cell_type": "code",
   "execution_count": 7,
   "metadata": {},
   "outputs": [
    {
     "name": "stdout",
     "output_type": "stream",
     "text": [
      "lambda: 0.0\n",
      "Saving ensemble_0.0.pkl ...\n",
      "lambda: 1.0\n",
      "Saving ensemble_1.0.pkl ...\n"
     ]
    }
   ],
   "source": [
    "for lam in lambda_values:\n",
    "    print(f\"lambda: {lam}\")\n",
    "    ensemble = biceps.Ensemble(lam, energies)\n",
    "    ensemble.initialize_restraints(input_data, parameters)\n",
    "    # Save each ensemble as a pickle file\n",
    "    print(f\"Saving ensemble_{lam}.pkl ...\")\n",
    "    biceps.toolbox.save_object(ensemble, outdir+\"/ensemble_%s.pkl\"%lam)"
   ]
  },
  {
   "cell_type": "markdown",
   "metadata": {},
   "source": [
    "<h1 style=\"text-align: left;font-size: 18pt;\"> Let's take a look at the ensemble (lam=1.0)...</h1>\n",
    "\n",
    "The ensemble consists of a list of 2 restraint objects for each state. Here we are showing the first 10 states."
   ]
  },
  {
   "cell_type": "code",
   "execution_count": 8,
   "metadata": {},
   "outputs": [
    {
     "name": "stdout",
     "output_type": "stream",
     "text": [
      "[[<biceps.Restraint.Restraint_J object at 0x7f9c90485470>, <biceps.Restraint.Restraint_noe object at 0x7f9c93b78668>], [<biceps.Restraint.Restraint_J object at 0x7f9c97757e48>, <biceps.Restraint.Restraint_noe object at 0x7f9c979fb048>], [<biceps.Restraint.Restraint_J object at 0x7f9c97989630>, <biceps.Restraint.Restraint_noe object at 0x7f9c93b783c8>], [<biceps.Restraint.Restraint_J object at 0x7f9c97711c50>, <biceps.Restraint.Restraint_noe object at 0x7f9c93b78ba8>], [<biceps.Restraint.Restraint_J object at 0x7f9c97711f60>, <biceps.Restraint.Restraint_noe object at 0x7f9c93b78b38>], [<biceps.Restraint.Restraint_J object at 0x7f9c97711b38>, <biceps.Restraint.Restraint_noe object at 0x7f9c97724da0>], [<biceps.Restraint.Restraint_J object at 0x7f9c97711f28>, <biceps.Restraint.Restraint_noe object at 0x7f9c93b78470>], [<biceps.Restraint.Restraint_J object at 0x7f9c93b785f8>, <biceps.Restraint.Restraint_noe object at 0x7f9c97724128>], [<biceps.Restraint.Restraint_J object at 0x7f9c97724c50>, <biceps.Restraint.Restraint_noe object at 0x7f9c97769358>], [<biceps.Restraint.Restraint_J object at 0x7f9c97711eb8>, <biceps.Restraint.Restraint_noe object at 0x7f9c97769390>]]\n"
     ]
    }
   ],
   "source": [
    "print(ensemble.to_list()[:10])"
   ]
  },
  {
   "cell_type": "markdown",
   "metadata": {},
   "source": [
    "<h1 style=\"text-align: center;font-size: 18pt;\">Conclusion</h1>\n",
    "\n",
    "In this tutorial, we explained how to construct an [ensemble](https://biceps.readthedocs.io/en/latest/biceps.html#ensemble) (for each lambda) of [restraints](https://biceps.readthedocs.io/en/latest/biceps.html#restraint) for each state, which we saved as a pickle file. In the next tutorial, [PosteriorSampler](https://biceps.readthedocs.io/en/latest/examples/Tutorials/Prep_Rest_Post_Ana/posteriorsampler.html) we will Sample the posterior distribution by using the `biceps.PosteriorSampler` class."
   ]
  },
  {
   "cell_type": "markdown",
   "metadata": {},
   "source": [
    "<h6 style=\"align: justify;font-size: 12pt\"># <span style=\"color:red;\">NOTE</span>: The following cell is for pretty notebook rendering</h6>"
   ]
  },
  {
   "cell_type": "code",
   "execution_count": 9,
   "metadata": {},
   "outputs": [
    {
     "data": {
      "text/html": [
       "\n",
       "<style>\n",
       "    @font-face {\n",
       "        font-family: \"Computer Modern\";\n",
       "        src: url('http://mirrors.ctan.org/fonts/cm-unicode/fonts/otf/cmunss.otf');\n",
       "    }\n",
       "    #notebook { /* centers the page content */\n",
       "    padding-left:8%;\n",
       "    padding-right:9%;\n",
       "    }\n",
       "    #ipython-main-app {\n",
       "        position: relative;\n",
       "    }\n",
       "    #jupyter-main-app {\n",
       "        position: relative;\n",
       "    }\n",
       "    div.cell{\n",
       "        width:98%;\n",
       "        margin-left:4% !important;*/\n",
       "        margin-right:4%;\n",
       "    }\n",
       "    h1 {\n",
       "        font-family: \"Charis SIL\", Palatino, serif;\n",
       "        text-align: center;\n",
       "    }\n",
       "    h4{\n",
       "        margin-top:12px;\n",
       "        margin-bottom: 3px;\n",
       "    }\n",
       "    p {\n",
       "        display: block;\n",
       "        text-align: justify;\n",
       "    }\n",
       "    div.text_cell_render{\n",
       "        font-family: Computer Modern, \"Helvetica Neue\", Arial, Helvetica, Geneva, sans-serif;\n",
       "        line-height: 145%;\n",
       "        font-size: 12pt;\n",
       "        width:99%;\n",
       "        margin-left:auto;\n",
       "        margin-right:auto;\n",
       "\ttext-align: justify;\n",
       "    }\n",
       "    .output_png {\n",
       "        display: block;/*table-cell;*/\n",
       "        text-align: center;\n",
       "        align: center;\n",
       "        vertical-align: middle;\n",
       "        margin-left: auto;\n",
       "        margin-right: auto;\n",
       "        width: auto; /* width: 100%;*/\n",
       "    }\n",
       "    div.output_area pre {font-weight: normal; text-align: justify; }\n",
       "    .warning{\n",
       "        color: rgb( 240, 20, 20 )\n",
       "        }\n",
       "    .CodeMirror{\n",
       "            font-family: \"Source Code Pro\", source-code-pro,Consolas, monospace;\n",
       "    }\n",
       "    .prompt{\n",
       "        display: None;\n",
       "    }\n",
       "    .text_cell_render p {\n",
       "        display: block;\n",
       "        text-align: justify;\n",
       "    }\n",
       "    .text_cell_render h5 {\n",
       "        font-weight: 300;\n",
       "        font-size: 16pt;\n",
       "        color: #4057A1;\n",
       "        font-style: italic;\n",
       "        margin-bottom: .5em;\n",
       "        margin-top: 0.5em;\n",
       "        display: block;\n",
       "    }\n",
       "    /* override table width restrictions as found on https://github.com/getpelican/pelican/issues/1311 */\n",
       "    .wy-table-responsive table td, .wy-table-responsive table th {\n",
       "        /* !important prevents the common CSS stylesheets from\n",
       "           overriding this as on RTD they are loaded after this stylesheet */\n",
       "        white-space: normal !important;\n",
       "    }\n",
       "\n",
       "    .wy-table-responsive {\n",
       "        overflow: visible !important;\n",
       "    }\n",
       "</style>\n",
       "\n",
       "\n",
       "<!-- MathJax configuration -->\n",
       "<script type=\"text/x-mathjax-config\">\n",
       "    src=\"http://cdn.mathjax.org/mathjax/latest/MathJax.js?config=TeX-AMS-MML_HTMLorMML\">\n",
       "    MathJax.Hub.Config({\n",
       "                        TeX: {\n",
       "                           extensions: [\"AMSmath.js\"]\n",
       "                           },\n",
       "                tex2jax: {\n",
       "                    inlineMath: [ ['$','$'], [\"\\\\(\",\"\\\\)\"] ],\n",
       "                    displayMath: [ ['$$','$$'], [\"\\\\[\",\"\\\\]\"] ]\n",
       "                },\n",
       "                displayAlign: 'center', // Change this to 'center' to center equations.\n",
       "                \"HTML-CSS\": {\n",
       "                    styles: {'.MathJax_Display': {\"margin\": 4}},\n",
       "                    linebreaks: { automatic: true }}\n",
       "        });\n",
       "</script>\n",
       "\n",
       "\n",
       "\n"
      ],
      "text/plain": [
       "<IPython.core.display.HTML object>"
      ]
     },
     "execution_count": 9,
     "metadata": {},
     "output_type": "execute_result"
    }
   ],
   "source": [
    "from IPython.core.display import HTML\n",
    "def css_styling():\n",
    "    styles = open(\"../../../theme.css\", \"r\").read()\n",
    "    return HTML(styles)\n",
    "css_styling()"
   ]
  }
 ],
 "metadata": {
  "kernelspec": {
   "display_name": "Python 3",
   "language": "python",
   "name": "python3"
  },
  "language_info": {
   "codemirror_mode": {
    "name": "ipython",
    "version": 3
   },
   "file_extension": ".py",
   "mimetype": "text/x-python",
   "name": "python",
   "nbconvert_exporter": "python",
   "pygments_lexer": "ipython3",
   "version": "3.7.3"
  }
 },
 "nbformat": 4,
 "nbformat_minor": 2
}
